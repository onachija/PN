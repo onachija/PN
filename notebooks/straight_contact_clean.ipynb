{
 "cells": [
  {
   "cell_type": "code",
   "execution_count": 1,
   "metadata": {},
   "outputs": [],
   "source": [
    "import numpy as np\n",
    "import pandas as pd\n",
    "import os\n",
    "import matplotlib.pyplot as plt\n",
    "from scipy.signal import find_peaks\n",
    "from scipy.signal import savgol_filter\n",
    "import math\n",
    "import time\n",
    "from tqdm import tqdm"
   ]
  },
  {
   "cell_type": "code",
   "execution_count": 12,
   "metadata": {},
   "outputs": [],
   "source": [
    "show_detection = 0"
   ]
  },
  {
   "cell_type": "code",
   "execution_count": 4,
   "metadata": {},
   "outputs": [],
   "source": [
    "data_path = '../data/CALC_STRAIGHT/'\n",
    "calcSEG = [f for f in os.listdir(data_path) if f.endswith('.csv')]\n",
    "output_path = '../data/CALC_STRAIGHT_CLEAN/'"
   ]
  },
  {
   "cell_type": "code",
   "execution_count": 5,
   "metadata": {},
   "outputs": [
    {
     "data": {
      "text/html": [
       "<div>\n",
       "<style scoped>\n",
       "    .dataframe tbody tr th:only-of-type {\n",
       "        vertical-align: middle;\n",
       "    }\n",
       "\n",
       "    .dataframe tbody tr th {\n",
       "        vertical-align: top;\n",
       "    }\n",
       "\n",
       "    .dataframe thead th {\n",
       "        text-align: right;\n",
       "    }\n",
       "</style>\n",
       "<table border=\"1\" class=\"dataframe\">\n",
       "  <thead>\n",
       "    <tr style=\"text-align: right;\">\n",
       "      <th></th>\n",
       "      <th>File</th>\n",
       "      <th>Ts [s]</th>\n",
       "      <th>fs [Hz]</th>\n",
       "      <th>Frames</th>\n",
       "      <th>Type</th>\n",
       "      <th>od</th>\n",
       "      <th>do</th>\n",
       "      <th>od.1</th>\n",
       "      <th>do.1</th>\n",
       "      <th>od.2</th>\n",
       "      <th>...</th>\n",
       "      <th>od.6</th>\n",
       "      <th>do.6</th>\n",
       "      <th>od.7</th>\n",
       "      <th>do.7</th>\n",
       "      <th>od.8</th>\n",
       "      <th>do.8</th>\n",
       "      <th>Unnamed: 20</th>\n",
       "      <th>Unnamed: 21</th>\n",
       "      <th>Unnamed: 22</th>\n",
       "      <th>Unnamed: 23</th>\n",
       "    </tr>\n",
       "  </thead>\n",
       "  <tbody>\n",
       "    <tr>\n",
       "      <th>0</th>\n",
       "      <td>N-01-1-Char00</td>\n",
       "      <td>0.008</td>\n",
       "      <td>125.0</td>\n",
       "      <td>30060.0</td>\n",
       "      <td>norma</td>\n",
       "      <td>38314</td>\n",
       "      <td>40368</td>\n",
       "      <td>41497.0</td>\n",
       "      <td>69503.0</td>\n",
       "      <td>NaN</td>\n",
       "      <td>...</td>\n",
       "      <td>NaN</td>\n",
       "      <td>NaN</td>\n",
       "      <td>NaN</td>\n",
       "      <td>NaN</td>\n",
       "      <td>NaN</td>\n",
       "      <td>NaN</td>\n",
       "      <td>NaN</td>\n",
       "      <td>NaN</td>\n",
       "      <td>NaN</td>\n",
       "      <td>NaN</td>\n",
       "    </tr>\n",
       "    <tr>\n",
       "      <th>1</th>\n",
       "      <td>A-03-1-Char00</td>\n",
       "      <td>0.008</td>\n",
       "      <td>125.0</td>\n",
       "      <td>10482.0</td>\n",
       "      <td>ataxie</td>\n",
       "      <td>40200</td>\n",
       "      <td>41032</td>\n",
       "      <td>42822.0</td>\n",
       "      <td>46285.0</td>\n",
       "      <td>47286.0</td>\n",
       "      <td>...</td>\n",
       "      <td>NaN</td>\n",
       "      <td>NaN</td>\n",
       "      <td>NaN</td>\n",
       "      <td>NaN</td>\n",
       "      <td>NaN</td>\n",
       "      <td>NaN</td>\n",
       "      <td>NaN</td>\n",
       "      <td>NaN</td>\n",
       "      <td>NaN</td>\n",
       "      <td>NaN</td>\n",
       "    </tr>\n",
       "    <tr>\n",
       "      <th>2</th>\n",
       "      <td>N-04-1-Char00</td>\n",
       "      <td>0.008</td>\n",
       "      <td>125.0</td>\n",
       "      <td>24964.0</td>\n",
       "      <td>norma</td>\n",
       "      <td>28500</td>\n",
       "      <td>30879</td>\n",
       "      <td>32283.0</td>\n",
       "      <td>34970.0</td>\n",
       "      <td>36292.0</td>\n",
       "      <td>...</td>\n",
       "      <td>52700.0</td>\n",
       "      <td>61820.0</td>\n",
       "      <td>NaN</td>\n",
       "      <td>NaN</td>\n",
       "      <td>NaN</td>\n",
       "      <td>NaN</td>\n",
       "      <td>NaN</td>\n",
       "      <td>NaN</td>\n",
       "      <td>NaN</td>\n",
       "      <td>NaN</td>\n",
       "    </tr>\n",
       "    <tr>\n",
       "      <th>3</th>\n",
       "      <td>N-06-1-Char00</td>\n",
       "      <td>0.008</td>\n",
       "      <td>125.0</td>\n",
       "      <td>23941.0</td>\n",
       "      <td>norma</td>\n",
       "      <td>30120</td>\n",
       "      <td>32045</td>\n",
       "      <td>34437.0</td>\n",
       "      <td>36508.0</td>\n",
       "      <td>38509.0</td>\n",
       "      <td>...</td>\n",
       "      <td>NaN</td>\n",
       "      <td>NaN</td>\n",
       "      <td>NaN</td>\n",
       "      <td>NaN</td>\n",
       "      <td>NaN</td>\n",
       "      <td>NaN</td>\n",
       "      <td>NaN</td>\n",
       "      <td>NaN</td>\n",
       "      <td>NaN</td>\n",
       "      <td>NaN</td>\n",
       "    </tr>\n",
       "    <tr>\n",
       "      <th>4</th>\n",
       "      <td>N-07-1-Char00</td>\n",
       "      <td>0.008</td>\n",
       "      <td>125.0</td>\n",
       "      <td>34820.0</td>\n",
       "      <td>norma</td>\n",
       "      <td>28900</td>\n",
       "      <td>63720</td>\n",
       "      <td>NaN</td>\n",
       "      <td>NaN</td>\n",
       "      <td>NaN</td>\n",
       "      <td>...</td>\n",
       "      <td>NaN</td>\n",
       "      <td>NaN</td>\n",
       "      <td>NaN</td>\n",
       "      <td>NaN</td>\n",
       "      <td>NaN</td>\n",
       "      <td>NaN</td>\n",
       "      <td>NaN</td>\n",
       "      <td>NaN</td>\n",
       "      <td>NaN</td>\n",
       "      <td>NaN</td>\n",
       "    </tr>\n",
       "  </tbody>\n",
       "</table>\n",
       "<p>5 rows × 27 columns</p>\n",
       "</div>"
      ],
      "text/plain": [
       "            File  Ts [s]  fs [Hz]   Frames    Type     od     do     od.1  \\\n",
       "0  N-01-1-Char00   0.008    125.0  30060.0   norma  38314  40368  41497.0   \n",
       "1  A-03-1-Char00   0.008    125.0  10482.0  ataxie  40200  41032  42822.0   \n",
       "2  N-04-1-Char00   0.008    125.0  24964.0   norma  28500  30879  32283.0   \n",
       "3  N-06-1-Char00   0.008    125.0  23941.0   norma  30120  32045  34437.0   \n",
       "4  N-07-1-Char00   0.008    125.0  34820.0   norma  28900  63720      NaN   \n",
       "\n",
       "      do.1     od.2  ...     od.6     do.6  od.7  do.7  od.8  do.8  \\\n",
       "0  69503.0      NaN  ...      NaN      NaN   NaN   NaN   NaN   NaN   \n",
       "1  46285.0  47286.0  ...      NaN      NaN   NaN   NaN   NaN   NaN   \n",
       "2  34970.0  36292.0  ...  52700.0  61820.0   NaN   NaN   NaN   NaN   \n",
       "3  36508.0  38509.0  ...      NaN      NaN   NaN   NaN   NaN   NaN   \n",
       "4      NaN      NaN  ...      NaN      NaN   NaN   NaN   NaN   NaN   \n",
       "\n",
       "   Unnamed: 20  Unnamed: 21  Unnamed: 22  Unnamed: 23  \n",
       "0          NaN          NaN          NaN          NaN  \n",
       "1          NaN          NaN          NaN          NaN  \n",
       "2          NaN          NaN          NaN          NaN  \n",
       "3          NaN          NaN          NaN          NaN  \n",
       "4          NaN          NaN          NaN          NaN  \n",
       "\n",
       "[5 rows x 27 columns]"
      ]
     },
     "execution_count": 5,
     "metadata": {},
     "output_type": "execute_result"
    }
   ],
   "source": [
    "X = pd.read_csv('../data/PN chuze/PN ataxie.csv')\n",
    "X.head()"
   ]
  },
  {
   "cell_type": "code",
   "execution_count": 6,
   "metadata": {},
   "outputs": [],
   "source": [
    "def mean_xy(df):\n",
    "    avg = pd.DataFrame()\n",
    "    for dim in ['x','y']:\n",
    "        dim_cols = [s for s in df.columns.to_list() if dim in s]\n",
    "        dim_df = df.filter(dim_cols,axis=1)\n",
    "        avg[dim] = np.mean(dim_df,axis=1)\n",
    "    return avg"
   ]
  },
  {
   "cell_type": "code",
   "execution_count": 7,
   "metadata": {},
   "outputs": [],
   "source": [
    "def angle(df):\n",
    "    theta = np.zeros((np.size(df,axis=0)))\n",
    "    dx = np.diff(df.x)\n",
    "    dy = np.diff(df.y)\n",
    "    for i in range(len(dx)): \n",
    "        theta[i] = math.atan2(dy[i], dx[i]) * 180 / math.pi \n",
    "    return theta"
   ]
  },
  {
   "cell_type": "code",
   "execution_count": 8,
   "metadata": {},
   "outputs": [],
   "source": [
    "def exclude(df,T_sampling,low,high,low2,th):\n",
    "    ex = np.zeros(len(df))\n",
    "\n",
    "    df['contactL_clean']=df.contactL\n",
    "    df['contactR_clean']=df.contactR\n",
    "\n",
    "    CR = np.where(abs(np.diff(df.contactR))>0)[0]\n",
    "    CL = np.where(abs(np.diff(df.contactL))>0)[0]\n",
    "    exR_low = np.where(np.diff(CR)*T_sampling < low)[0]\n",
    "    exL_low = np.where(np.diff(CL)*T_sampling < low)[0]\n",
    "\n",
    "    stop = [x + 1 for x in exR_low]\n",
    "    for i,e in enumerate(exR_low):\n",
    "        #ex[CR[e]:CR[stop[i]]] = 1\n",
    "        df.loc[CR[e]+1:CR[stop[i]],'contactR_clean'] = abs(df.loc[CR[e]+1:CR[stop[i]],'contactR']-1)\n",
    "\n",
    "    stop = [x + 1 for x in exL_low]\n",
    "    for i,e in enumerate(exL_low):\n",
    "        #ex[CL[e]:CL[stop[i]]] = 1\n",
    "        df.loc[CL[e]+1:CL[stop[i]],'contactL_clean'] = abs(df.loc[CL[e]+1:CL[stop[i]],'contactL']-1)\n",
    "\n",
    "    CR = np.where(abs(np.diff(df.contactR_clean))>0)[0]\n",
    "    CL = np.where(abs(np.diff(df.contactL_clean))>0)[0]\n",
    "    exR_low = np.where(np.diff(CR)*T_sampling < low2)[0]\n",
    "    exL_low = np.where(np.diff(CL)*T_sampling < low2)[0]\n",
    "    exR_high = np.where(np.diff(CR)*T_sampling > high)[0]\n",
    "    exL_high = np.where(np.diff(CL)*T_sampling > high)[0]\n",
    "\n",
    "    stop = [x + 1 for x in exR_low]\n",
    "    for i,e in enumerate(exR_low):\n",
    "        ex[CR[e]:CR[stop[i]]] = 1\n",
    "\n",
    "    stop = [x + 1 for x in exL_low]\n",
    "    for i,e in enumerate(exL_low):\n",
    "        ex[CL[e]:CL[stop[i]]] = 1\n",
    "\n",
    "    stop = [x + 1 for x in exL_high]\n",
    "    for i,e in enumerate(exL_high):\n",
    "        ex[CL[e]:CL[stop[i]]] = 1\n",
    "\n",
    "    stop = [x + 1 for x in exR_high]\n",
    "    for i,e in enumerate(exR_high):\n",
    "        ex[CR[e]:CR[stop[i]]] = 1\n",
    "\n",
    "    ex_ones = np.where(ex==1)[0]\n",
    "    drop = np.where(np.diff(ex_ones) > 1)[0]\n",
    "    for d in drop:\n",
    "        if((ex_ones[d+1] - ex_ones[d])*T_sampling)<th:\n",
    "            ex[ex_ones[d]:ex_ones[d+2]]=1 \n",
    "    return ex"
   ]
  },
  {
   "cell_type": "code",
   "execution_count": 15,
   "metadata": {},
   "outputs": [
    {
     "name": "stderr",
     "output_type": "stream",
     "text": [
      "  7%|▋         | 16/232 [00:44<10:55,  3.03s/it]"
     ]
    },
    {
     "name": "stdout",
     "output_type": "stream",
     "text": [
      "WARNING: segment len <5s : N-740516-Char005index between: 0-85\n"
     ]
    },
    {
     "name": "stderr",
     "output_type": "stream",
     "text": [
      "\r",
      "  7%|▋         | 17/232 [00:45<08:43,  2.43s/it]"
     ]
    },
    {
     "name": "stdout",
     "output_type": "stream",
     "text": [
      "WARNING: segment len <5s : N-740516-Char005index between: 643-755\n"
     ]
    },
    {
     "name": "stderr",
     "output_type": "stream",
     "text": [
      "\r",
      "  8%|▊         | 18/232 [00:45<06:33,  1.84s/it]"
     ]
    },
    {
     "name": "stdout",
     "output_type": "stream",
     "text": [
      "WARNING: segment len <5s : N-740516-Char004index between: 489-613\n"
     ]
    },
    {
     "name": "stderr",
     "output_type": "stream",
     "text": [
      "  9%|▉         | 22/232 [01:01<11:45,  3.36s/it]"
     ]
    },
    {
     "name": "stdout",
     "output_type": "stream",
     "text": [
      "WARNING: segment len <5s : N-01-1-Char001index between: 1457-1840\n"
     ]
    },
    {
     "name": "stderr",
     "output_type": "stream",
     "text": [
      "\r",
      " 10%|▉         | 23/232 [01:03<10:27,  3.00s/it]"
     ]
    },
    {
     "name": "stdout",
     "output_type": "stream",
     "text": [
      "WARNING: segment len <5s : N-01-1-Char001index between: 1869-2055\n",
      "WARNING: segment len <5s : N-740516-Char004index between: 0-105\n",
      "WARNING: segment len <5s : N-740516-Char004index between: 113-193\n"
     ]
    },
    {
     "name": "stderr",
     "output_type": "stream",
     "text": [
      "\r",
      " 10%|█         | 24/232 [01:03<07:49,  2.26s/it]"
     ]
    },
    {
     "name": "stdout",
     "output_type": "stream",
     "text": [
      "WARNING: segment len <5s : N-740516-Char004index between: 787-856\n"
     ]
    },
    {
     "name": "stderr",
     "output_type": "stream",
     "text": [
      " 11%|█         | 26/232 [01:08<07:14,  2.11s/it]"
     ]
    },
    {
     "name": "stdout",
     "output_type": "stream",
     "text": [
      "WARNING: segment len <5s : N-740516-Char004index between: 0-66\n",
      "WARNING: segment len <5s : N-740516-Char004index between: 520-623\n"
     ]
    },
    {
     "name": "stderr",
     "output_type": "stream",
     "text": [
      " 13%|█▎        | 31/232 [01:21<08:51,  2.65s/it]"
     ]
    },
    {
     "name": "stdout",
     "output_type": "stream",
     "text": [
      "WARNING: segment len <5s : N-740516-Char004index between: 573-687\n",
      "WARNING: segment len <5s : N-740516-Char004index between: 767-913\n"
     ]
    },
    {
     "name": "stderr",
     "output_type": "stream",
     "text": [
      "\r",
      " 14%|█▍        | 32/232 [01:22<06:42,  2.01s/it]"
     ]
    },
    {
     "name": "stdout",
     "output_type": "stream",
     "text": [
      "WARNING: segment len <5s : A-715211-Char001index between: 1302-1593\n"
     ]
    },
    {
     "name": "stderr",
     "output_type": "stream",
     "text": [
      " 16%|█▌        | 37/232 [01:35<07:57,  2.45s/it]"
     ]
    },
    {
     "name": "stdout",
     "output_type": "stream",
     "text": [
      "WARNING: segment len <5s : A-615829-Char001index between: 0-76\n"
     ]
    },
    {
     "name": "stderr",
     "output_type": "stream",
     "text": [
      " 18%|█▊        | 41/232 [01:51<10:50,  3.40s/it]"
     ]
    },
    {
     "name": "stdout",
     "output_type": "stream",
     "text": [
      "WARNING: segment len <5s : A-615829-Char001index between: 3589-4211\n"
     ]
    },
    {
     "name": "stderr",
     "output_type": "stream",
     "text": [
      " 27%|██▋       | 62/232 [03:04<10:16,  3.63s/it]"
     ]
    },
    {
     "name": "stdout",
     "output_type": "stream",
     "text": [
      "WARNING: segment len <5s : N-535525-Char003index between: 0-187\n",
      "WARNING: segment len <5s : N-535525-Char003index between: 612-695\n",
      "WARNING: segment len <5s : N-535525-Char003index between: 780-1003\n"
     ]
    },
    {
     "name": "stderr",
     "output_type": "stream",
     "text": [
      "\r",
      " 27%|██▋       | 63/232 [03:06<08:07,  2.89s/it]"
     ]
    },
    {
     "name": "stdout",
     "output_type": "stream",
     "text": [
      "WARNING: segment len <5s : N-535525-Char002index between: 0-212\n",
      "WARNING: segment len <5s : N-535525-Char002index between: 229-489\n",
      "WARNING: segment len <5s : N-535525-Char002index between: 510-702\n",
      "WARNING: segment len <5s : N-535525-Char002index between: 792-1079\n"
     ]
    },
    {
     "name": "stderr",
     "output_type": "stream",
     "text": [
      " 29%|██▉       | 68/232 [03:18<06:34,  2.41s/it]"
     ]
    },
    {
     "name": "stdout",
     "output_type": "stream",
     "text": [
      "WARNING: segment len <5s : N-920828-Char006index between: 0-231\n"
     ]
    },
    {
     "name": "stderr",
     "output_type": "stream",
     "text": [
      " 32%|███▏      | 74/232 [03:35<07:52,  2.99s/it]"
     ]
    },
    {
     "name": "stdout",
     "output_type": "stream",
     "text": [
      "WARNING: segment len <5s : A-615829-Char001index between: 0-617\n"
     ]
    },
    {
     "name": "stderr",
     "output_type": "stream",
     "text": [
      " 36%|███▌      | 84/232 [04:14<09:37,  3.90s/it]"
     ]
    },
    {
     "name": "stdout",
     "output_type": "stream",
     "text": [
      "WARNING: segment len <5s : N-535525-Char002index between: 0-226\n"
     ]
    },
    {
     "name": "stderr",
     "output_type": "stream",
     "text": [
      " 40%|████      | 93/232 [04:40<07:07,  3.08s/it]"
     ]
    },
    {
     "name": "stdout",
     "output_type": "stream",
     "text": [
      "WARNING: segment len <5s : A-03-1-Char004index between: 0-472\n",
      "WARNING: segment len <5s : A-03-1-Char004index between: 1148-1457\n",
      "WARNING: segment len <5s : A-03-1-Char004index between: 2961-3539\n"
     ]
    },
    {
     "name": "stderr",
     "output_type": "stream",
     "text": [
      "\r",
      " 41%|████      | 94/232 [04:42<06:17,  2.74s/it]"
     ]
    },
    {
     "name": "stdout",
     "output_type": "stream",
     "text": [
      "WARNING: segment len <5s : A-03-1-Char005index between: 0-618\n",
      "WARNING: segment len <5s : A-03-1-Char005index between: 652-909\n"
     ]
    },
    {
     "name": "stderr",
     "output_type": "stream",
     "text": [
      " 42%|████▏     | 98/232 [04:52<05:23,  2.41s/it]"
     ]
    },
    {
     "name": "stdout",
     "output_type": "stream",
     "text": [
      "WARNING: segment len <5s : N-740516-Char006index between: 0-65\n",
      "WARNING: segment len <5s : N-740516-Char006index between: 897-959\n"
     ]
    },
    {
     "name": "stderr",
     "output_type": "stream",
     "text": [
      "\r",
      " 43%|████▎     | 99/232 [04:54<05:05,  2.30s/it]"
     ]
    },
    {
     "name": "stdout",
     "output_type": "stream",
     "text": [
      "WARNING: segment len <5s : A-755730-Char001index between: 0-113\n"
     ]
    },
    {
     "name": "stderr",
     "output_type": "stream",
     "text": [
      " 48%|████▊     | 111/232 [05:30<07:27,  3.70s/it]"
     ]
    },
    {
     "name": "stdout",
     "output_type": "stream",
     "text": [
      "WARNING: segment len <5s : N-740516-Char006index between: 0-106\n",
      "WARNING: segment len <5s : N-740516-Char006index between: 125-197\n",
      "WARNING: segment len <5s : N-740516-Char006index between: 207-307\n",
      "WARNING: segment len <5s : N-740516-Char006index between: 471-637\n",
      "WARNING: segment len <5s : N-740516-Char006index between: 735-838\n"
     ]
    },
    {
     "name": "stderr",
     "output_type": "stream",
     "text": [
      " 49%|████▉     | 114/232 [05:39<06:47,  3.45s/it]"
     ]
    },
    {
     "name": "stdout",
     "output_type": "stream",
     "text": [
      "WARNING: segment len <5s : A-13-1-Char006index between: 0-111\n",
      "WARNING: segment len <5s : A-13-1-Char006index between: 128-421\n"
     ]
    },
    {
     "name": "stderr",
     "output_type": "stream",
     "text": [
      " 51%|█████▏    | 119/232 [05:53<06:05,  3.23s/it]"
     ]
    },
    {
     "name": "stdout",
     "output_type": "stream",
     "text": [
      "WARNING: segment len <5s : N-740516-Char006index between: 0-115\n",
      "WARNING: segment len <5s : N-740516-Char006index between: 132-219\n",
      "WARNING: segment len <5s : N-740516-Char006index between: 248-372\n",
      "WARNING: segment len <5s : N-740516-Char006index between: 578-701\n"
     ]
    },
    {
     "name": "stderr",
     "output_type": "stream",
     "text": [
      "\r",
      " 52%|█████▏    | 120/232 [05:53<04:40,  2.50s/it]"
     ]
    },
    {
     "name": "stdout",
     "output_type": "stream",
     "text": [
      "WARNING: segment len <5s : N-740516-Char006index between: 845-910\n",
      "WARNING: segment len <5s : N-01-1-Char002index between: 0-417\n"
     ]
    },
    {
     "name": "stderr",
     "output_type": "stream",
     "text": [
      " 56%|█████▌    | 130/232 [06:20<03:52,  2.28s/it]"
     ]
    },
    {
     "name": "stdout",
     "output_type": "stream",
     "text": [
      "WARNING: segment len <5s : N-740516-Char006index between: 211-271\n"
     ]
    },
    {
     "name": "stderr",
     "output_type": "stream",
     "text": [
      " 64%|██████▍   | 149/232 [07:21<03:12,  2.32s/it]"
     ]
    },
    {
     "name": "stdout",
     "output_type": "stream",
     "text": [
      "WARNING: segment len <5s : N-740516-Char006index between: 0-63\n",
      "WARNING: segment len <5s : N-740516-Char006index between: 312-394\n"
     ]
    },
    {
     "name": "stderr",
     "output_type": "stream",
     "text": [
      " 66%|██████▌   | 152/232 [07:33<04:28,  3.36s/it]"
     ]
    },
    {
     "name": "stdout",
     "output_type": "stream",
     "text": [
      "WARNING: segment len <5s : N-01-1-Char002index between: 1708-1903\n"
     ]
    },
    {
     "name": "stderr",
     "output_type": "stream",
     "text": [
      " 72%|███████▏  | 167/232 [08:13<03:42,  3.42s/it]"
     ]
    },
    {
     "name": "stdout",
     "output_type": "stream",
     "text": [
      "WARNING: segment len <5s : N-535525-Char001index between: 850-1085\n"
     ]
    },
    {
     "name": "stderr",
     "output_type": "stream",
     "text": [
      "\r",
      " 72%|███████▏  | 168/232 [08:14<02:58,  2.78s/it]"
     ]
    },
    {
     "name": "stdout",
     "output_type": "stream",
     "text": [
      "WARNING: segment len <5s : N-01-1-Char002index between: 1048-1267\n"
     ]
    },
    {
     "name": "stderr",
     "output_type": "stream",
     "text": [
      "\r",
      " 73%|███████▎  | 169/232 [08:16<02:34,  2.45s/it]"
     ]
    },
    {
     "name": "stdout",
     "output_type": "stream",
     "text": [
      "WARNING: segment len <5s : N-01-1-Char002index between: 1600-1763\n"
     ]
    },
    {
     "name": "stderr",
     "output_type": "stream",
     "text": [
      " 79%|███████▉  | 183/232 [09:04<02:22,  2.92s/it]"
     ]
    },
    {
     "name": "stdout",
     "output_type": "stream",
     "text": [
      "WARNING: segment len <5s : N-01-1-Char002index between: 0-316\n"
     ]
    },
    {
     "name": "stderr",
     "output_type": "stream",
     "text": [
      " 80%|████████  | 186/232 [09:09<01:40,  2.18s/it]"
     ]
    },
    {
     "name": "stdout",
     "output_type": "stream",
     "text": [
      "WARNING: segment len <5s : N-535525-Char001index between: 0-222\n",
      "WARNING: segment len <5s : N-535525-Char001index between: 232-422\n",
      "WARNING: segment len <5s : N-535525-Char001index between: 505-613\n",
      "WARNING: segment len <5s : N-535525-Char001index between: 620-772\n",
      "WARNING: segment len <5s : N-535525-Char001index between: 783-1054\n"
     ]
    },
    {
     "name": "stderr",
     "output_type": "stream",
     "text": [
      " 83%|████████▎ | 193/232 [09:35<02:45,  4.24s/it]"
     ]
    },
    {
     "name": "stdout",
     "output_type": "stream",
     "text": [
      "WARNING: segment len <5s : N-06-1-Char005index between: 1339-1876\n"
     ]
    },
    {
     "name": "stderr",
     "output_type": "stream",
     "text": [
      " 86%|████████▌ | 199/232 [09:51<01:42,  3.11s/it]"
     ]
    },
    {
     "name": "stdout",
     "output_type": "stream",
     "text": [
      "WARNING: segment len <5s : A-03-1-Char002index between: 2026-2159\n",
      "WARNING: segment len <5s : A-03-1-Char002index between: 2824-3188\n",
      "WARNING: segment len <5s : A-03-1-Char002index between: 3204-3464\n"
     ]
    },
    {
     "name": "stderr",
     "output_type": "stream",
     "text": [
      " 88%|████████▊ | 203/232 [10:00<01:03,  2.18s/it]"
     ]
    },
    {
     "name": "stdout",
     "output_type": "stream",
     "text": [
      "WARNING: segment len <5s : A-766012-Char001index between: 0-139\n"
     ]
    },
    {
     "name": "stderr",
     "output_type": "stream",
     "text": [
      "\r",
      " 88%|████████▊ | 204/232 [10:05<01:25,  3.05s/it]"
     ]
    },
    {
     "name": "stdout",
     "output_type": "stream",
     "text": [
      "WARNING: segment len <5s : A-766012-Char001index between: 0-202\n"
     ]
    },
    {
     "name": "stderr",
     "output_type": "stream",
     "text": [
      "\r",
      " 88%|████████▊ | 205/232 [10:10<01:43,  3.82s/it]"
     ]
    },
    {
     "name": "stdout",
     "output_type": "stream",
     "text": [
      "WARNING: segment len <5s : N-535525-Char001index between: 0-209\n"
     ]
    },
    {
     "name": "stderr",
     "output_type": "stream",
     "text": [
      "\r",
      " 89%|████████▉ | 206/232 [10:12<01:20,  3.08s/it]"
     ]
    },
    {
     "name": "stdout",
     "output_type": "stream",
     "text": [
      "WARNING: segment len <5s : N-740516-Char001index between: 0-179\n"
     ]
    },
    {
     "name": "stderr",
     "output_type": "stream",
     "text": [
      " 96%|█████████▌| 223/232 [11:03<00:29,  3.22s/it]"
     ]
    },
    {
     "name": "stdout",
     "output_type": "stream",
     "text": [
      "WARNING: segment len <5s : A-766012-Char001index between: 3286-3500\n"
     ]
    },
    {
     "name": "stderr",
     "output_type": "stream",
     "text": [
      "\r",
      " 97%|█████████▋| 224/232 [11:09<00:30,  3.87s/it]"
     ]
    },
    {
     "name": "stdout",
     "output_type": "stream",
     "text": [
      "WARNING: segment len <5s : N-535525-Char001index between: 0-246\n"
     ]
    },
    {
     "name": "stderr",
     "output_type": "stream",
     "text": [
      "100%|██████████| 232/232 [11:34<00:00,  3.65s/it]\n"
     ]
    }
   ],
   "source": [
    "segs = pd.DataFrame(columns=['subjectID','type','part','t_sampling','sample_len','time_len'])\n",
    "\n",
    "for seg in tqdm(calcSEG):\n",
    "    #seg = 'A-03-1-Char00part4seg-0.csv'\n",
    "    \n",
    "    subject =  seg.split(sep='Char00',maxsplit=1)[0]+'Char00'\n",
    "    part = seg.split(sep='part',maxsplit=1)[1][0]\n",
    "    segm = seg.split(sep='seg-',maxsplit=1)[1][0]\n",
    "    #print(subject + ':' + part + ':' + segm )\n",
    "    \n",
    "    df = pd.read_csv(data_path + seg)\n",
    "    df.rename(columns={\"Unnamed: 0\": \"OrigIndex\"},inplace=True)\n",
    "    N = np.size(df,axis=0)\n",
    "    # Check for the T_sampling from bvh file\n",
    "    T_sampling = X.loc[X['File'] == subject,'Ts [s]'].values\n",
    "    # Create time vector for this part\n",
    "    time = np.linspace(0,N,num=N)*T_sampling\n",
    "\n",
    "    # Take column with position only\n",
    "    col_list = df.columns.to_list()\n",
    "    position_cols = [s for s in col_list if \"X\" in s]\n",
    "    xdf = df.filter(position_cols,axis=1)\n",
    "    \n",
    "    # AVERAGE FROM ALL POSITIONS IN XY PLANE\n",
    "    xy_cols = []\n",
    "    for col in xdf.columns.to_list():\n",
    "        if 'x' in col:\n",
    "            xy_cols.append(xdf.columns.to_list().index(col))\n",
    "        if 'y' in col:\n",
    "            xy_cols.append(xdf.columns.to_list().index(col))\n",
    "    xy = xdf.filter(xdf.columns[xy_cols],axis=1)\n",
    "    avg = mean_xy(xy)  \n",
    "    direction = angle(avg)\n",
    "    \n",
    "    # EXCLUSION DRIVEN BY FOOT CONTACTS\n",
    "    ex = exclude(df,T_sampling,0.1,2,0.2,1)\n",
    "    \n",
    "    if show_detection:\n",
    "        plt.figure(figsize=(16,9))\n",
    "        plt.plot(df.contactL)\n",
    "        plt.plot(df.contactR-1.1)\n",
    "        plt.plot(df.contactL_clean+1.1)\n",
    "        plt.plot(df.contactR_clean-2.2)\n",
    "\n",
    "        plt.plot(ex+2.2)\n",
    "\n",
    "        fig, ax = plt.subplots(5, 1, figsize=(16,5))\n",
    "        ax[0].plot(avg.x,avg.y)\n",
    "        ax[0].set_title('AVERAGE FROM ALL POSITIONS: XY projection')\n",
    "        ax[0].set_ylabel('y')\n",
    "        ax[0].set_xlabel('x')\n",
    "\n",
    "        ax[1].plot((np.diff(avg.x)**2 + np.diff(avg.y)**2)**0.5)\n",
    "        ax[1].plot(savgol_filter((np.diff(avg.x)**2 + np.diff(avg.y)**2)**0.5,59,2),'r')\n",
    "        ax[1].set_title('DIFFERENCE')\n",
    "        ax[1].set_ylabel('diff')\n",
    "        ax[1].set_xlabel('sample')\n",
    "\n",
    "        ax[2].plot(direction)\n",
    "        ax[2].plot(savgol_filter(direction,59,2),'r')\n",
    "        ax[2].set_title('DIRECTION')\n",
    "        ax[2].set_ylabel('Direction ')\n",
    "        ax[2].set_xlabel('sample')\n",
    "\n",
    "        ax[3].plot(np.diff(savgol_filter((np.diff(avg.x)**2 + np.diff(avg.y)**2)**0.5,59,2)),'k')\n",
    "        ax[3].plot(np.diff(savgol_filter(direction,59,2)),'m')\n",
    "\n",
    "        ax[4].plot(ex) \n",
    "\n",
    "    N_segs = 0\n",
    "    if sum(ex)==0:\n",
    "        N_segs=1\n",
    "        df.to_csv(output_path + seg[:-4] + '_sub_0.csv',index=False)\n",
    "    else:\n",
    "        splits = np.where(np.diff(np.where(ex==0)[0])>1)[0]\n",
    "        N_segs = 1 + len(splits)\n",
    "        \n",
    "    for g in range(N_segs):\n",
    "        if g == 0:\n",
    "            if ex[0]==0:\n",
    "                start = 0\n",
    "            else:\n",
    "                start = np.where(ex==0)[0][0]  \n",
    "        else:\n",
    "            start = np.where(ex==0)[0][splits[g-1]+1]\n",
    "        if g == N_segs-1:\n",
    "            stop = len(ex)\n",
    "        else:\n",
    "            stop = np.where(ex==0)[0][splits[g]]\n",
    "        thisSTRAIGHT = df.loc[start:stop,:]\n",
    "        thisSTRAIGHT_len = (stop - start)*T_sampling\n",
    "        \n",
    "        if stop-start > 59:\n",
    "            if thisSTRAIGHT_len < 5:\n",
    "                print('WARNING: segment len <5s : ' + subject + part + 'index between: ' + str(start) + '-' + str(stop))\n",
    "            thisSTRAIGHT.to_csv(output_path + seg[:-4] + '_sub_' + str(g) +'.csv',index=False)\n",
    "   \n",
    "    thisDF = pd.DataFrame(data={'subjectID':subject,'type':X.loc[X['File'] == subject,'Type'],\n",
    "                    'part':part,'t_sampling':T_sampling,'sample_len':N,'time_len':N*T_sampling,\n",
    "                    'N_seg':N_segs})\n",
    "\n",
    "    segs = pd.concat([segs, thisDF],ignore_index=True,sort=False)"
   ]
  },
  {
   "cell_type": "code",
   "execution_count": 16,
   "metadata": {},
   "outputs": [
    {
     "data": {
      "text/html": [
       "<div>\n",
       "<style scoped>\n",
       "    .dataframe tbody tr th:only-of-type {\n",
       "        vertical-align: middle;\n",
       "    }\n",
       "\n",
       "    .dataframe tbody tr th {\n",
       "        vertical-align: top;\n",
       "    }\n",
       "\n",
       "    .dataframe thead th {\n",
       "        text-align: right;\n",
       "    }\n",
       "</style>\n",
       "<table border=\"1\" class=\"dataframe\">\n",
       "  <thead>\n",
       "    <tr style=\"text-align: right;\">\n",
       "      <th></th>\n",
       "      <th>subjectID</th>\n",
       "      <th>type</th>\n",
       "      <th>part</th>\n",
       "      <th>t_sampling</th>\n",
       "      <th>sample_len</th>\n",
       "      <th>time_len</th>\n",
       "      <th>N_seg</th>\n",
       "    </tr>\n",
       "  </thead>\n",
       "  <tbody>\n",
       "    <tr>\n",
       "      <th>0</th>\n",
       "      <td>N-15-1-Char00</td>\n",
       "      <td>norma</td>\n",
       "      <td>2</td>\n",
       "      <td>0.017</td>\n",
       "      <td>522</td>\n",
       "      <td>8.874</td>\n",
       "      <td>1.0</td>\n",
       "    </tr>\n",
       "    <tr>\n",
       "      <th>1</th>\n",
       "      <td>N-15-1-Char00</td>\n",
       "      <td>norma</td>\n",
       "      <td>3</td>\n",
       "      <td>0.017</td>\n",
       "      <td>963</td>\n",
       "      <td>16.371</td>\n",
       "      <td>1.0</td>\n",
       "    </tr>\n",
       "    <tr>\n",
       "      <th>2</th>\n",
       "      <td>N-04-1-Char00</td>\n",
       "      <td>norma</td>\n",
       "      <td>7</td>\n",
       "      <td>0.008</td>\n",
       "      <td>2047</td>\n",
       "      <td>16.376</td>\n",
       "      <td>1.0</td>\n",
       "    </tr>\n",
       "    <tr>\n",
       "      <th>3</th>\n",
       "      <td>A-736123-Char00</td>\n",
       "      <td>ataxie</td>\n",
       "      <td>1</td>\n",
       "      <td>0.017</td>\n",
       "      <td>1388</td>\n",
       "      <td>23.596</td>\n",
       "      <td>2.0</td>\n",
       "    </tr>\n",
       "    <tr>\n",
       "      <th>4</th>\n",
       "      <td>N-15051994-Char00</td>\n",
       "      <td>norma</td>\n",
       "      <td>2</td>\n",
       "      <td>0.008</td>\n",
       "      <td>1751</td>\n",
       "      <td>14.008</td>\n",
       "      <td>1.0</td>\n",
       "    </tr>\n",
       "    <tr>\n",
       "      <th>5</th>\n",
       "      <td>N-15051994-Char00</td>\n",
       "      <td>norma</td>\n",
       "      <td>3</td>\n",
       "      <td>0.008</td>\n",
       "      <td>1625</td>\n",
       "      <td>13.000</td>\n",
       "      <td>1.0</td>\n",
       "    </tr>\n",
       "    <tr>\n",
       "      <th>6</th>\n",
       "      <td>N-920828-Char00</td>\n",
       "      <td>norma</td>\n",
       "      <td>1</td>\n",
       "      <td>0.017</td>\n",
       "      <td>800</td>\n",
       "      <td>13.600</td>\n",
       "      <td>1.0</td>\n",
       "    </tr>\n",
       "    <tr>\n",
       "      <th>7</th>\n",
       "      <td>N-04-1-Char00</td>\n",
       "      <td>norma</td>\n",
       "      <td>7</td>\n",
       "      <td>0.008</td>\n",
       "      <td>2087</td>\n",
       "      <td>16.696</td>\n",
       "      <td>1.0</td>\n",
       "    </tr>\n",
       "    <tr>\n",
       "      <th>8</th>\n",
       "      <td>N-15-1-Char00</td>\n",
       "      <td>norma</td>\n",
       "      <td>3</td>\n",
       "      <td>0.017</td>\n",
       "      <td>1009</td>\n",
       "      <td>17.153</td>\n",
       "      <td>1.0</td>\n",
       "    </tr>\n",
       "    <tr>\n",
       "      <th>9</th>\n",
       "      <td>N-535525-Char00</td>\n",
       "      <td>norma</td>\n",
       "      <td>1</td>\n",
       "      <td>0.017</td>\n",
       "      <td>932</td>\n",
       "      <td>15.844</td>\n",
       "      <td>2.0</td>\n",
       "    </tr>\n",
       "    <tr>\n",
       "      <th>10</th>\n",
       "      <td>N-15-1-Char00</td>\n",
       "      <td>norma</td>\n",
       "      <td>3</td>\n",
       "      <td>0.017</td>\n",
       "      <td>907</td>\n",
       "      <td>15.419</td>\n",
       "      <td>1.0</td>\n",
       "    </tr>\n",
       "    <tr>\n",
       "      <th>11</th>\n",
       "      <td>N-04-1-Char00</td>\n",
       "      <td>norma</td>\n",
       "      <td>7</td>\n",
       "      <td>0.008</td>\n",
       "      <td>902</td>\n",
       "      <td>7.216</td>\n",
       "      <td>1.0</td>\n",
       "    </tr>\n",
       "    <tr>\n",
       "      <th>12</th>\n",
       "      <td>N-04-1-Char00</td>\n",
       "      <td>norma</td>\n",
       "      <td>6</td>\n",
       "      <td>0.008</td>\n",
       "      <td>2613</td>\n",
       "      <td>20.904</td>\n",
       "      <td>1.0</td>\n",
       "    </tr>\n",
       "    <tr>\n",
       "      <th>13</th>\n",
       "      <td>N-04-1-Char00</td>\n",
       "      <td>norma</td>\n",
       "      <td>7</td>\n",
       "      <td>0.008</td>\n",
       "      <td>2015</td>\n",
       "      <td>16.120</td>\n",
       "      <td>1.0</td>\n",
       "    </tr>\n",
       "    <tr>\n",
       "      <th>14</th>\n",
       "      <td>N-15-1-Char00</td>\n",
       "      <td>norma</td>\n",
       "      <td>3</td>\n",
       "      <td>0.017</td>\n",
       "      <td>992</td>\n",
       "      <td>16.864</td>\n",
       "      <td>1.0</td>\n",
       "    </tr>\n",
       "    <tr>\n",
       "      <th>15</th>\n",
       "      <td>N-15051994-Char00</td>\n",
       "      <td>norma</td>\n",
       "      <td>8</td>\n",
       "      <td>0.008</td>\n",
       "      <td>1421</td>\n",
       "      <td>11.368</td>\n",
       "      <td>1.0</td>\n",
       "    </tr>\n",
       "    <tr>\n",
       "      <th>16</th>\n",
       "      <td>N-740516-Char00</td>\n",
       "      <td>norma</td>\n",
       "      <td>5</td>\n",
       "      <td>0.017</td>\n",
       "      <td>755</td>\n",
       "      <td>12.835</td>\n",
       "      <td>3.0</td>\n",
       "    </tr>\n",
       "    <tr>\n",
       "      <th>17</th>\n",
       "      <td>N-740516-Char00</td>\n",
       "      <td>norma</td>\n",
       "      <td>4</td>\n",
       "      <td>0.017</td>\n",
       "      <td>775</td>\n",
       "      <td>13.175</td>\n",
       "      <td>2.0</td>\n",
       "    </tr>\n",
       "    <tr>\n",
       "      <th>18</th>\n",
       "      <td>N-07-1-Char00</td>\n",
       "      <td>norma</td>\n",
       "      <td>1</td>\n",
       "      <td>0.008</td>\n",
       "      <td>1530</td>\n",
       "      <td>12.240</td>\n",
       "      <td>1.0</td>\n",
       "    </tr>\n",
       "    <tr>\n",
       "      <th>19</th>\n",
       "      <td>N-25031996-Char00</td>\n",
       "      <td>norma</td>\n",
       "      <td>3</td>\n",
       "      <td>0.008</td>\n",
       "      <td>2025</td>\n",
       "      <td>16.200</td>\n",
       "      <td>1.0</td>\n",
       "    </tr>\n",
       "    <tr>\n",
       "      <th>20</th>\n",
       "      <td>N-04-1-Char00</td>\n",
       "      <td>norma</td>\n",
       "      <td>7</td>\n",
       "      <td>0.008</td>\n",
       "      <td>2074</td>\n",
       "      <td>16.592</td>\n",
       "      <td>1.0</td>\n",
       "    </tr>\n",
       "    <tr>\n",
       "      <th>21</th>\n",
       "      <td>N-07-1-Char00</td>\n",
       "      <td>norma</td>\n",
       "      <td>1</td>\n",
       "      <td>0.008</td>\n",
       "      <td>1599</td>\n",
       "      <td>12.792</td>\n",
       "      <td>1.0</td>\n",
       "    </tr>\n",
       "    <tr>\n",
       "      <th>22</th>\n",
       "      <td>N-01-1-Char00</td>\n",
       "      <td>norma</td>\n",
       "      <td>1</td>\n",
       "      <td>0.008</td>\n",
       "      <td>2055</td>\n",
       "      <td>16.440</td>\n",
       "      <td>3.0</td>\n",
       "    </tr>\n",
       "    <tr>\n",
       "      <th>23</th>\n",
       "      <td>N-740516-Char00</td>\n",
       "      <td>norma</td>\n",
       "      <td>4</td>\n",
       "      <td>0.017</td>\n",
       "      <td>923</td>\n",
       "      <td>15.691</td>\n",
       "      <td>4.0</td>\n",
       "    </tr>\n",
       "    <tr>\n",
       "      <th>24</th>\n",
       "      <td>N-25031996-Char00</td>\n",
       "      <td>norma</td>\n",
       "      <td>1</td>\n",
       "      <td>0.008</td>\n",
       "      <td>2034</td>\n",
       "      <td>16.272</td>\n",
       "      <td>1.0</td>\n",
       "    </tr>\n",
       "    <tr>\n",
       "      <th>25</th>\n",
       "      <td>N-740516-Char00</td>\n",
       "      <td>norma</td>\n",
       "      <td>4</td>\n",
       "      <td>0.017</td>\n",
       "      <td>623</td>\n",
       "      <td>10.591</td>\n",
       "      <td>2.0</td>\n",
       "    </tr>\n",
       "    <tr>\n",
       "      <th>26</th>\n",
       "      <td>N-14-2-Char00</td>\n",
       "      <td>norma</td>\n",
       "      <td>1</td>\n",
       "      <td>0.017</td>\n",
       "      <td>1151</td>\n",
       "      <td>19.567</td>\n",
       "      <td>1.0</td>\n",
       "    </tr>\n",
       "    <tr>\n",
       "      <th>27</th>\n",
       "      <td>N-10-1-Char00</td>\n",
       "      <td>norma</td>\n",
       "      <td>5</td>\n",
       "      <td>0.017</td>\n",
       "      <td>744</td>\n",
       "      <td>12.648</td>\n",
       "      <td>1.0</td>\n",
       "    </tr>\n",
       "    <tr>\n",
       "      <th>28</th>\n",
       "      <td>N-06-1-Char00</td>\n",
       "      <td>norma</td>\n",
       "      <td>1</td>\n",
       "      <td>0.008</td>\n",
       "      <td>1926</td>\n",
       "      <td>15.408</td>\n",
       "      <td>1.0</td>\n",
       "    </tr>\n",
       "    <tr>\n",
       "      <th>29</th>\n",
       "      <td>N-10-1-Char00</td>\n",
       "      <td>norma</td>\n",
       "      <td>4</td>\n",
       "      <td>0.017</td>\n",
       "      <td>784</td>\n",
       "      <td>13.328</td>\n",
       "      <td>1.0</td>\n",
       "    </tr>\n",
       "    <tr>\n",
       "      <th>...</th>\n",
       "      <td>...</td>\n",
       "      <td>...</td>\n",
       "      <td>...</td>\n",
       "      <td>...</td>\n",
       "      <td>...</td>\n",
       "      <td>...</td>\n",
       "      <td>...</td>\n",
       "    </tr>\n",
       "    <tr>\n",
       "      <th>202</th>\n",
       "      <td>N-535525-Char00</td>\n",
       "      <td>norma</td>\n",
       "      <td>1</td>\n",
       "      <td>0.017</td>\n",
       "      <td>1051</td>\n",
       "      <td>17.867</td>\n",
       "      <td>2.0</td>\n",
       "    </tr>\n",
       "    <tr>\n",
       "      <th>203</th>\n",
       "      <td>A-766012-Char00</td>\n",
       "      <td>ataxie</td>\n",
       "      <td>1</td>\n",
       "      <td>0.017</td>\n",
       "      <td>4746</td>\n",
       "      <td>80.682</td>\n",
       "      <td>5.0</td>\n",
       "    </tr>\n",
       "    <tr>\n",
       "      <th>204</th>\n",
       "      <td>A-766012-Char00</td>\n",
       "      <td>ataxie</td>\n",
       "      <td>1</td>\n",
       "      <td>0.017</td>\n",
       "      <td>4893</td>\n",
       "      <td>83.181</td>\n",
       "      <td>3.0</td>\n",
       "    </tr>\n",
       "    <tr>\n",
       "      <th>205</th>\n",
       "      <td>N-535525-Char00</td>\n",
       "      <td>norma</td>\n",
       "      <td>1</td>\n",
       "      <td>0.017</td>\n",
       "      <td>1073</td>\n",
       "      <td>18.241</td>\n",
       "      <td>2.0</td>\n",
       "    </tr>\n",
       "    <tr>\n",
       "      <th>206</th>\n",
       "      <td>N-740516-Char00</td>\n",
       "      <td>norma</td>\n",
       "      <td>1</td>\n",
       "      <td>0.017</td>\n",
       "      <td>945</td>\n",
       "      <td>16.065</td>\n",
       "      <td>2.0</td>\n",
       "    </tr>\n",
       "    <tr>\n",
       "      <th>207</th>\n",
       "      <td>N-25031996-Char00</td>\n",
       "      <td>norma</td>\n",
       "      <td>4</td>\n",
       "      <td>0.008</td>\n",
       "      <td>2122</td>\n",
       "      <td>16.976</td>\n",
       "      <td>1.0</td>\n",
       "    </tr>\n",
       "    <tr>\n",
       "      <th>208</th>\n",
       "      <td>N-07-1-Char00</td>\n",
       "      <td>norma</td>\n",
       "      <td>1</td>\n",
       "      <td>0.008</td>\n",
       "      <td>1776</td>\n",
       "      <td>14.208</td>\n",
       "      <td>1.0</td>\n",
       "    </tr>\n",
       "    <tr>\n",
       "      <th>209</th>\n",
       "      <td>N-10-1-Char00</td>\n",
       "      <td>norma</td>\n",
       "      <td>1</td>\n",
       "      <td>0.017</td>\n",
       "      <td>1357</td>\n",
       "      <td>23.069</td>\n",
       "      <td>1.0</td>\n",
       "    </tr>\n",
       "    <tr>\n",
       "      <th>210</th>\n",
       "      <td>N-06-1-Char00</td>\n",
       "      <td>norma</td>\n",
       "      <td>4</td>\n",
       "      <td>0.008</td>\n",
       "      <td>667</td>\n",
       "      <td>5.336</td>\n",
       "      <td>1.0</td>\n",
       "    </tr>\n",
       "    <tr>\n",
       "      <th>211</th>\n",
       "      <td>N-06-1-Char00</td>\n",
       "      <td>norma</td>\n",
       "      <td>5</td>\n",
       "      <td>0.008</td>\n",
       "      <td>778</td>\n",
       "      <td>6.224</td>\n",
       "      <td>1.0</td>\n",
       "    </tr>\n",
       "    <tr>\n",
       "      <th>212</th>\n",
       "      <td>A-681001-Char00</td>\n",
       "      <td>ataxie</td>\n",
       "      <td>1</td>\n",
       "      <td>0.017</td>\n",
       "      <td>2484</td>\n",
       "      <td>42.228</td>\n",
       "      <td>2.0</td>\n",
       "    </tr>\n",
       "    <tr>\n",
       "      <th>213</th>\n",
       "      <td>A-681001-Char00</td>\n",
       "      <td>ataxie</td>\n",
       "      <td>1</td>\n",
       "      <td>0.017</td>\n",
       "      <td>2419</td>\n",
       "      <td>41.123</td>\n",
       "      <td>2.0</td>\n",
       "    </tr>\n",
       "    <tr>\n",
       "      <th>214</th>\n",
       "      <td>N-06-1-Char00</td>\n",
       "      <td>norma</td>\n",
       "      <td>4</td>\n",
       "      <td>0.008</td>\n",
       "      <td>1963</td>\n",
       "      <td>15.704</td>\n",
       "      <td>1.0</td>\n",
       "    </tr>\n",
       "    <tr>\n",
       "      <th>215</th>\n",
       "      <td>N-06-1-Char00</td>\n",
       "      <td>norma</td>\n",
       "      <td>5</td>\n",
       "      <td>0.008</td>\n",
       "      <td>1897</td>\n",
       "      <td>15.176</td>\n",
       "      <td>1.0</td>\n",
       "    </tr>\n",
       "    <tr>\n",
       "      <th>216</th>\n",
       "      <td>N-07-1-Char00</td>\n",
       "      <td>norma</td>\n",
       "      <td>1</td>\n",
       "      <td>0.008</td>\n",
       "      <td>1744</td>\n",
       "      <td>13.952</td>\n",
       "      <td>1.0</td>\n",
       "    </tr>\n",
       "    <tr>\n",
       "      <th>217</th>\n",
       "      <td>N-25031996-Char00</td>\n",
       "      <td>norma</td>\n",
       "      <td>4</td>\n",
       "      <td>0.008</td>\n",
       "      <td>2018</td>\n",
       "      <td>16.144</td>\n",
       "      <td>1.0</td>\n",
       "    </tr>\n",
       "    <tr>\n",
       "      <th>218</th>\n",
       "      <td>N-740516-Char00</td>\n",
       "      <td>norma</td>\n",
       "      <td>1</td>\n",
       "      <td>0.017</td>\n",
       "      <td>995</td>\n",
       "      <td>16.915</td>\n",
       "      <td>1.0</td>\n",
       "    </tr>\n",
       "    <tr>\n",
       "      <th>219</th>\n",
       "      <td>N-535525-Char00</td>\n",
       "      <td>norma</td>\n",
       "      <td>1</td>\n",
       "      <td>0.017</td>\n",
       "      <td>1071</td>\n",
       "      <td>18.207</td>\n",
       "      <td>1.0</td>\n",
       "    </tr>\n",
       "    <tr>\n",
       "      <th>220</th>\n",
       "      <td>A-766012-Char00</td>\n",
       "      <td>ataxie</td>\n",
       "      <td>1</td>\n",
       "      <td>0.017</td>\n",
       "      <td>1338</td>\n",
       "      <td>22.746</td>\n",
       "      <td>2.0</td>\n",
       "    </tr>\n",
       "    <tr>\n",
       "      <th>221</th>\n",
       "      <td>N-01-1-Char00</td>\n",
       "      <td>norma</td>\n",
       "      <td>2</td>\n",
       "      <td>0.008</td>\n",
       "      <td>2070</td>\n",
       "      <td>16.560</td>\n",
       "      <td>1.0</td>\n",
       "    </tr>\n",
       "    <tr>\n",
       "      <th>222</th>\n",
       "      <td>A-715211-Char00</td>\n",
       "      <td>ataxie</td>\n",
       "      <td>1</td>\n",
       "      <td>0.017</td>\n",
       "      <td>1495</td>\n",
       "      <td>25.415</td>\n",
       "      <td>1.0</td>\n",
       "    </tr>\n",
       "    <tr>\n",
       "      <th>223</th>\n",
       "      <td>A-766012-Char00</td>\n",
       "      <td>ataxie</td>\n",
       "      <td>1</td>\n",
       "      <td>0.017</td>\n",
       "      <td>5196</td>\n",
       "      <td>88.332</td>\n",
       "      <td>6.0</td>\n",
       "    </tr>\n",
       "    <tr>\n",
       "      <th>224</th>\n",
       "      <td>N-535525-Char00</td>\n",
       "      <td>norma</td>\n",
       "      <td>1</td>\n",
       "      <td>0.017</td>\n",
       "      <td>1064</td>\n",
       "      <td>18.088</td>\n",
       "      <td>2.0</td>\n",
       "    </tr>\n",
       "    <tr>\n",
       "      <th>225</th>\n",
       "      <td>A-09-1-Char00</td>\n",
       "      <td>ataxie</td>\n",
       "      <td>1</td>\n",
       "      <td>0.017</td>\n",
       "      <td>1265</td>\n",
       "      <td>21.505</td>\n",
       "      <td>1.0</td>\n",
       "    </tr>\n",
       "    <tr>\n",
       "      <th>226</th>\n",
       "      <td>N-740516-Char00</td>\n",
       "      <td>norma</td>\n",
       "      <td>1</td>\n",
       "      <td>0.017</td>\n",
       "      <td>903</td>\n",
       "      <td>15.351</td>\n",
       "      <td>1.0</td>\n",
       "    </tr>\n",
       "    <tr>\n",
       "      <th>227</th>\n",
       "      <td>N-25031996-Char00</td>\n",
       "      <td>norma</td>\n",
       "      <td>4</td>\n",
       "      <td>0.008</td>\n",
       "      <td>2098</td>\n",
       "      <td>16.784</td>\n",
       "      <td>1.0</td>\n",
       "    </tr>\n",
       "    <tr>\n",
       "      <th>228</th>\n",
       "      <td>N-07-1-Char00</td>\n",
       "      <td>norma</td>\n",
       "      <td>1</td>\n",
       "      <td>0.008</td>\n",
       "      <td>1787</td>\n",
       "      <td>14.296</td>\n",
       "      <td>1.0</td>\n",
       "    </tr>\n",
       "    <tr>\n",
       "      <th>229</th>\n",
       "      <td>N-06-1-Char00</td>\n",
       "      <td>norma</td>\n",
       "      <td>5</td>\n",
       "      <td>0.008</td>\n",
       "      <td>1259</td>\n",
       "      <td>10.072</td>\n",
       "      <td>1.0</td>\n",
       "    </tr>\n",
       "    <tr>\n",
       "      <th>230</th>\n",
       "      <td>N-06-1-Char00</td>\n",
       "      <td>norma</td>\n",
       "      <td>4</td>\n",
       "      <td>0.008</td>\n",
       "      <td>2013</td>\n",
       "      <td>16.104</td>\n",
       "      <td>2.0</td>\n",
       "    </tr>\n",
       "    <tr>\n",
       "      <th>231</th>\n",
       "      <td>A-681001-Char00</td>\n",
       "      <td>ataxie</td>\n",
       "      <td>1</td>\n",
       "      <td>0.017</td>\n",
       "      <td>2393</td>\n",
       "      <td>40.681</td>\n",
       "      <td>1.0</td>\n",
       "    </tr>\n",
       "  </tbody>\n",
       "</table>\n",
       "<p>232 rows × 7 columns</p>\n",
       "</div>"
      ],
      "text/plain": [
       "             subjectID    type part  t_sampling sample_len  time_len  N_seg\n",
       "0        N-15-1-Char00   norma    2       0.017        522     8.874    1.0\n",
       "1        N-15-1-Char00   norma    3       0.017        963    16.371    1.0\n",
       "2        N-04-1-Char00   norma    7       0.008       2047    16.376    1.0\n",
       "3      A-736123-Char00  ataxie    1       0.017       1388    23.596    2.0\n",
       "4    N-15051994-Char00   norma    2       0.008       1751    14.008    1.0\n",
       "5    N-15051994-Char00   norma    3       0.008       1625    13.000    1.0\n",
       "6      N-920828-Char00   norma    1       0.017        800    13.600    1.0\n",
       "7        N-04-1-Char00   norma    7       0.008       2087    16.696    1.0\n",
       "8        N-15-1-Char00   norma    3       0.017       1009    17.153    1.0\n",
       "9      N-535525-Char00   norma    1       0.017        932    15.844    2.0\n",
       "10       N-15-1-Char00   norma    3       0.017        907    15.419    1.0\n",
       "11       N-04-1-Char00   norma    7       0.008        902     7.216    1.0\n",
       "12       N-04-1-Char00   norma    6       0.008       2613    20.904    1.0\n",
       "13       N-04-1-Char00   norma    7       0.008       2015    16.120    1.0\n",
       "14       N-15-1-Char00   norma    3       0.017        992    16.864    1.0\n",
       "15   N-15051994-Char00   norma    8       0.008       1421    11.368    1.0\n",
       "16     N-740516-Char00   norma    5       0.017        755    12.835    3.0\n",
       "17     N-740516-Char00   norma    4       0.017        775    13.175    2.0\n",
       "18       N-07-1-Char00   norma    1       0.008       1530    12.240    1.0\n",
       "19   N-25031996-Char00   norma    3       0.008       2025    16.200    1.0\n",
       "20       N-04-1-Char00   norma    7       0.008       2074    16.592    1.0\n",
       "21       N-07-1-Char00   norma    1       0.008       1599    12.792    1.0\n",
       "22       N-01-1-Char00   norma    1       0.008       2055    16.440    3.0\n",
       "23     N-740516-Char00   norma    4       0.017        923    15.691    4.0\n",
       "24   N-25031996-Char00   norma    1       0.008       2034    16.272    1.0\n",
       "25     N-740516-Char00   norma    4       0.017        623    10.591    2.0\n",
       "26       N-14-2-Char00   norma    1       0.017       1151    19.567    1.0\n",
       "27       N-10-1-Char00   norma    5       0.017        744    12.648    1.0\n",
       "28       N-06-1-Char00   norma    1       0.008       1926    15.408    1.0\n",
       "29       N-10-1-Char00   norma    4       0.017        784    13.328    1.0\n",
       "..                 ...     ...  ...         ...        ...       ...    ...\n",
       "202    N-535525-Char00   norma    1       0.017       1051    17.867    2.0\n",
       "203    A-766012-Char00  ataxie    1       0.017       4746    80.682    5.0\n",
       "204    A-766012-Char00  ataxie    1       0.017       4893    83.181    3.0\n",
       "205    N-535525-Char00   norma    1       0.017       1073    18.241    2.0\n",
       "206    N-740516-Char00   norma    1       0.017        945    16.065    2.0\n",
       "207  N-25031996-Char00   norma    4       0.008       2122    16.976    1.0\n",
       "208      N-07-1-Char00   norma    1       0.008       1776    14.208    1.0\n",
       "209      N-10-1-Char00   norma    1       0.017       1357    23.069    1.0\n",
       "210      N-06-1-Char00   norma    4       0.008        667     5.336    1.0\n",
       "211      N-06-1-Char00   norma    5       0.008        778     6.224    1.0\n",
       "212    A-681001-Char00  ataxie    1       0.017       2484    42.228    2.0\n",
       "213    A-681001-Char00  ataxie    1       0.017       2419    41.123    2.0\n",
       "214      N-06-1-Char00   norma    4       0.008       1963    15.704    1.0\n",
       "215      N-06-1-Char00   norma    5       0.008       1897    15.176    1.0\n",
       "216      N-07-1-Char00   norma    1       0.008       1744    13.952    1.0\n",
       "217  N-25031996-Char00   norma    4       0.008       2018    16.144    1.0\n",
       "218    N-740516-Char00   norma    1       0.017        995    16.915    1.0\n",
       "219    N-535525-Char00   norma    1       0.017       1071    18.207    1.0\n",
       "220    A-766012-Char00  ataxie    1       0.017       1338    22.746    2.0\n",
       "221      N-01-1-Char00   norma    2       0.008       2070    16.560    1.0\n",
       "222    A-715211-Char00  ataxie    1       0.017       1495    25.415    1.0\n",
       "223    A-766012-Char00  ataxie    1       0.017       5196    88.332    6.0\n",
       "224    N-535525-Char00   norma    1       0.017       1064    18.088    2.0\n",
       "225      A-09-1-Char00  ataxie    1       0.017       1265    21.505    1.0\n",
       "226    N-740516-Char00   norma    1       0.017        903    15.351    1.0\n",
       "227  N-25031996-Char00   norma    4       0.008       2098    16.784    1.0\n",
       "228      N-07-1-Char00   norma    1       0.008       1787    14.296    1.0\n",
       "229      N-06-1-Char00   norma    5       0.008       1259    10.072    1.0\n",
       "230      N-06-1-Char00   norma    4       0.008       2013    16.104    2.0\n",
       "231    A-681001-Char00  ataxie    1       0.017       2393    40.681    1.0\n",
       "\n",
       "[232 rows x 7 columns]"
      ]
     },
     "execution_count": 16,
     "metadata": {},
     "output_type": "execute_result"
    }
   ],
   "source": [
    "segs"
   ]
  },
  {
   "cell_type": "code",
   "execution_count": 17,
   "metadata": {},
   "outputs": [],
   "source": [
    "segs.to_csv('../data/SEGMENTS_CLEAN.csv',index=False)"
   ]
  },
  {
   "cell_type": "code",
   "execution_count": null,
   "metadata": {},
   "outputs": [],
   "source": []
  },
  {
   "cell_type": "code",
   "execution_count": null,
   "metadata": {},
   "outputs": [],
   "source": []
  }
 ],
 "metadata": {
  "kernelspec": {
   "display_name": "Python 3",
   "language": "python",
   "name": "python3"
  },
  "language_info": {
   "codemirror_mode": {
    "name": "ipython",
    "version": 3
   },
   "file_extension": ".py",
   "mimetype": "text/x-python",
   "name": "python",
   "nbconvert_exporter": "python",
   "pygments_lexer": "ipython3",
   "version": "3.6.7"
  }
 },
 "nbformat": 4,
 "nbformat_minor": 2
}
