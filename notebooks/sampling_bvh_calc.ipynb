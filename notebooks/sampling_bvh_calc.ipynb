{
 "cells": [
  {
   "cell_type": "code",
   "execution_count": 8,
   "metadata": {},
   "outputs": [],
   "source": [
    "import numpy as np\n",
    "import pandas as pd\n",
    "import os\n",
    "import matplotlib.pyplot as plt\n",
    "from bvh import Bvh"
   ]
  },
  {
   "cell_type": "code",
   "execution_count": 2,
   "metadata": {},
   "outputs": [],
   "source": [
    "calc_path = '../data/CALC/'\n",
    "bvh_path = '../data/PN chuze/'\n",
    "calc_files = [f for f in os.listdir(calc_path) if f.endswith('.calc')]\n",
    "bvh_files = [f for f in os.listdir(bvh_path) if f.endswith('.bvh')]"
   ]
  },
  {
   "cell_type": "code",
   "execution_count": 3,
   "metadata": {},
   "outputs": [
    {
     "data": {
      "text/plain": [
       "['16_2_Char00.bvh',\n",
       " '13_1_Char00.bvh',\n",
       " '15_1_Char00.bvh',\n",
       " '10_1_Char00.bvh',\n",
       " '14_2_Char00.bvh']"
      ]
     },
     "execution_count": 3,
     "metadata": {},
     "output_type": "execute_result"
    }
   ],
   "source": [
    "bvh_files"
   ]
  },
  {
   "cell_type": "code",
   "execution_count": 4,
   "metadata": {},
   "outputs": [
    {
     "data": {
      "text/plain": [
       "['A-715211-Char00.calc',\n",
       " 'A-03-1-Char00.calc',\n",
       " 'N-04-1-Char00.calc',\n",
       " 'A-755730-Char00.calc',\n",
       " 'N-10-1-Char00.calc',\n",
       " 'N-07-1-Char00.calc',\n",
       " 'A-13-1-Char00.calc',\n",
       " 'N-25031996-Char00.calc',\n",
       " 'A-615829-Char00.calc',\n",
       " 'N-14-2-Char00.calc',\n",
       " 'A-09-1-Char00.calc',\n",
       " 'N-740516-Char00.calc',\n",
       " 'N-16-2-Char00.calc',\n",
       " 'N-15051994-Char00.calc',\n",
       " 'A-681001-Char00.calc',\n",
       " 'A-736123-Char00.calc',\n",
       " 'N-06-1-Char00.calc',\n",
       " 'N-15-1-Char00.calc',\n",
       " 'N-920828-Char00.calc',\n",
       " 'A-766012-Char00.calc',\n",
       " 'N-535525-Char00.calc',\n",
       " 'N-01-1-Char00.calc']"
      ]
     },
     "execution_count": 4,
     "metadata": {},
     "output_type": "execute_result"
    }
   ],
   "source": [
    "calc_files"
   ]
  },
  {
   "cell_type": "code",
   "execution_count": 4,
   "metadata": {},
   "outputs": [
    {
     "data": {
      "text/html": [
       "<div>\n",
       "<style scoped>\n",
       "    .dataframe tbody tr th:only-of-type {\n",
       "        vertical-align: middle;\n",
       "    }\n",
       "\n",
       "    .dataframe tbody tr th {\n",
       "        vertical-align: top;\n",
       "    }\n",
       "\n",
       "    .dataframe thead th {\n",
       "        text-align: right;\n",
       "    }\n",
       "</style>\n",
       "<table border=\"1\" class=\"dataframe\">\n",
       "  <thead>\n",
       "    <tr style=\"text-align: right;\">\n",
       "      <th></th>\n",
       "      <th>File</th>\n",
       "      <th>Ts [s]</th>\n",
       "    </tr>\n",
       "  </thead>\n",
       "  <tbody>\n",
       "    <tr>\n",
       "      <th>0</th>\n",
       "      <td>N-01-1-Char00</td>\n",
       "      <td>0.008</td>\n",
       "    </tr>\n",
       "    <tr>\n",
       "      <th>1</th>\n",
       "      <td>A-03-1-Char00</td>\n",
       "      <td>0.008</td>\n",
       "    </tr>\n",
       "    <tr>\n",
       "      <th>2</th>\n",
       "      <td>N-04-1-Char00</td>\n",
       "      <td>0.008</td>\n",
       "    </tr>\n",
       "    <tr>\n",
       "      <th>3</th>\n",
       "      <td>N-06-1-Char00</td>\n",
       "      <td>0.008</td>\n",
       "    </tr>\n",
       "    <tr>\n",
       "      <th>4</th>\n",
       "      <td>N-07-1-Char00</td>\n",
       "      <td>0.008</td>\n",
       "    </tr>\n",
       "  </tbody>\n",
       "</table>\n",
       "</div>"
      ],
      "text/plain": [
       "            File  Ts [s]\n",
       "0  N-01-1-Char00   0.008\n",
       "1  A-03-1-Char00   0.008\n",
       "2  N-04-1-Char00   0.008\n",
       "3  N-06-1-Char00   0.008\n",
       "4  N-07-1-Char00   0.008"
      ]
     },
     "execution_count": 4,
     "metadata": {},
     "output_type": "execute_result"
    }
   ],
   "source": [
    "X = pd.read_csv('../data/PN chuze/PN ataxie.csv',usecols=[0,1])\n",
    "X.head()"
   ]
  },
  {
   "cell_type": "code",
   "execution_count": 6,
   "metadata": {},
   "outputs": [],
   "source": []
  },
  {
   "cell_type": "code",
   "execution_count": 17,
   "metadata": {},
   "outputs": [],
   "source": [
    "#file = '16_2_Char00.bvh'\n",
    "file = '13_1_Char00.bvh'"
   ]
  },
  {
   "cell_type": "code",
   "execution_count": 18,
   "metadata": {},
   "outputs": [],
   "source": [
    " with open(bvh_path + file) as f:\n",
    "        mocap = Bvh(f.read())\n",
    "        number_frames = mocap.nframes\n",
    "        T_sampling = mocap.frame_time"
   ]
  },
  {
   "cell_type": "code",
   "execution_count": 19,
   "metadata": {},
   "outputs": [
    {
     "data": {
      "text/plain": [
       "37232"
      ]
     },
     "execution_count": 19,
     "metadata": {},
     "output_type": "execute_result"
    }
   ],
   "source": [
    "number_frames"
   ]
  },
  {
   "cell_type": "code",
   "execution_count": 20,
   "metadata": {},
   "outputs": [
    {
     "data": {
      "text/plain": [
       "0.017"
      ]
     },
     "execution_count": 20,
     "metadata": {},
     "output_type": "execute_result"
    }
   ],
   "source": [
    "T_sampling"
   ]
  },
  {
   "cell_type": "code",
   "execution_count": null,
   "metadata": {},
   "outputs": [],
   "source": []
  },
  {
   "cell_type": "code",
   "execution_count": 21,
   "metadata": {},
   "outputs": [],
   "source": [
    "#file = 'N-16-2-Char00.calc'\n",
    "file = 'A-13-1-Char00.calc'"
   ]
  },
  {
   "cell_type": "code",
   "execution_count": 22,
   "metadata": {},
   "outputs": [
    {
     "data": {
      "text/html": [
       "<div>\n",
       "<style scoped>\n",
       "    .dataframe tbody tr th:only-of-type {\n",
       "        vertical-align: middle;\n",
       "    }\n",
       "\n",
       "    .dataframe tbody tr th {\n",
       "        vertical-align: top;\n",
       "    }\n",
       "\n",
       "    .dataframe thead th {\n",
       "        text-align: right;\n",
       "    }\n",
       "</style>\n",
       "<table border=\"1\" class=\"dataframe\">\n",
       "  <thead>\n",
       "    <tr style=\"text-align: right;\">\n",
       "      <th></th>\n",
       "      <th>01-X-x</th>\n",
       "      <th>01-X-y</th>\n",
       "      <th>01-X-z</th>\n",
       "      <th>01-V-x</th>\n",
       "      <th>01-V-y</th>\n",
       "      <th>01-V-z</th>\n",
       "      <th>01-Q-s</th>\n",
       "      <th>01-Q-x</th>\n",
       "      <th>01-Q-y</th>\n",
       "      <th>01-Q-z</th>\n",
       "      <th>...</th>\n",
       "      <th>59-Q-x</th>\n",
       "      <th>59-Q-y</th>\n",
       "      <th>59-Q-z</th>\n",
       "      <th>59-A-x</th>\n",
       "      <th>59-A-y</th>\n",
       "      <th>59-A-z</th>\n",
       "      <th>59-W-x</th>\n",
       "      <th>59-W-y</th>\n",
       "      <th>59-W-z</th>\n",
       "      <th>Unnamed: 946</th>\n",
       "    </tr>\n",
       "  </thead>\n",
       "  <tbody>\n",
       "    <tr>\n",
       "      <th>0</th>\n",
       "      <td>-0.4095</td>\n",
       "      <td>0.3657</td>\n",
       "      <td>0.2316</td>\n",
       "      <td>0.0016</td>\n",
       "      <td>0.0020</td>\n",
       "      <td>0.0028</td>\n",
       "      <td>0.5358</td>\n",
       "      <td>0.4036</td>\n",
       "      <td>0.6061</td>\n",
       "      <td>-0.4274</td>\n",
       "      <td>...</td>\n",
       "      <td>0.0</td>\n",
       "      <td>0.0</td>\n",
       "      <td>0.0</td>\n",
       "      <td>0.0</td>\n",
       "      <td>0.0</td>\n",
       "      <td>0.0</td>\n",
       "      <td>0.0</td>\n",
       "      <td>0.0</td>\n",
       "      <td>0.0</td>\n",
       "      <td>NaN</td>\n",
       "    </tr>\n",
       "    <tr>\n",
       "      <th>1</th>\n",
       "      <td>-0.4095</td>\n",
       "      <td>0.3656</td>\n",
       "      <td>0.2317</td>\n",
       "      <td>0.0018</td>\n",
       "      <td>0.0016</td>\n",
       "      <td>0.0032</td>\n",
       "      <td>0.5358</td>\n",
       "      <td>0.4036</td>\n",
       "      <td>0.6061</td>\n",
       "      <td>-0.4274</td>\n",
       "      <td>...</td>\n",
       "      <td>0.0</td>\n",
       "      <td>0.0</td>\n",
       "      <td>0.0</td>\n",
       "      <td>0.0</td>\n",
       "      <td>0.0</td>\n",
       "      <td>0.0</td>\n",
       "      <td>0.0</td>\n",
       "      <td>0.0</td>\n",
       "      <td>0.0</td>\n",
       "      <td>NaN</td>\n",
       "    </tr>\n",
       "    <tr>\n",
       "      <th>2</th>\n",
       "      <td>-0.4095</td>\n",
       "      <td>0.3656</td>\n",
       "      <td>0.2317</td>\n",
       "      <td>0.0010</td>\n",
       "      <td>0.0006</td>\n",
       "      <td>0.0024</td>\n",
       "      <td>0.5359</td>\n",
       "      <td>0.4035</td>\n",
       "      <td>0.6061</td>\n",
       "      <td>-0.4275</td>\n",
       "      <td>...</td>\n",
       "      <td>0.0</td>\n",
       "      <td>0.0</td>\n",
       "      <td>0.0</td>\n",
       "      <td>0.0</td>\n",
       "      <td>0.0</td>\n",
       "      <td>0.0</td>\n",
       "      <td>0.0</td>\n",
       "      <td>0.0</td>\n",
       "      <td>0.0</td>\n",
       "      <td>NaN</td>\n",
       "    </tr>\n",
       "    <tr>\n",
       "      <th>3</th>\n",
       "      <td>-0.4095</td>\n",
       "      <td>0.3655</td>\n",
       "      <td>0.2317</td>\n",
       "      <td>0.0028</td>\n",
       "      <td>-0.0010</td>\n",
       "      <td>0.0037</td>\n",
       "      <td>0.5359</td>\n",
       "      <td>0.4035</td>\n",
       "      <td>0.6060</td>\n",
       "      <td>-0.4276</td>\n",
       "      <td>...</td>\n",
       "      <td>0.0</td>\n",
       "      <td>0.0</td>\n",
       "      <td>0.0</td>\n",
       "      <td>0.0</td>\n",
       "      <td>0.0</td>\n",
       "      <td>0.0</td>\n",
       "      <td>0.0</td>\n",
       "      <td>0.0</td>\n",
       "      <td>0.0</td>\n",
       "      <td>NaN</td>\n",
       "    </tr>\n",
       "    <tr>\n",
       "      <th>4</th>\n",
       "      <td>-0.4095</td>\n",
       "      <td>0.3655</td>\n",
       "      <td>0.2317</td>\n",
       "      <td>0.0016</td>\n",
       "      <td>0.0004</td>\n",
       "      <td>0.0035</td>\n",
       "      <td>0.5359</td>\n",
       "      <td>0.4035</td>\n",
       "      <td>0.6060</td>\n",
       "      <td>-0.4276</td>\n",
       "      <td>...</td>\n",
       "      <td>0.0</td>\n",
       "      <td>0.0</td>\n",
       "      <td>0.0</td>\n",
       "      <td>0.0</td>\n",
       "      <td>0.0</td>\n",
       "      <td>0.0</td>\n",
       "      <td>0.0</td>\n",
       "      <td>0.0</td>\n",
       "      <td>0.0</td>\n",
       "      <td>NaN</td>\n",
       "    </tr>\n",
       "  </tbody>\n",
       "</table>\n",
       "<p>5 rows × 947 columns</p>\n",
       "</div>"
      ],
      "text/plain": [
       "   01-X-x  01-X-y  01-X-z  01-V-x  01-V-y  01-V-z  01-Q-s  01-Q-x  01-Q-y  \\\n",
       "0 -0.4095  0.3657  0.2316  0.0016  0.0020  0.0028  0.5358  0.4036  0.6061   \n",
       "1 -0.4095  0.3656  0.2317  0.0018  0.0016  0.0032  0.5358  0.4036  0.6061   \n",
       "2 -0.4095  0.3656  0.2317  0.0010  0.0006  0.0024  0.5359  0.4035  0.6061   \n",
       "3 -0.4095  0.3655  0.2317  0.0028 -0.0010  0.0037  0.5359  0.4035  0.6060   \n",
       "4 -0.4095  0.3655  0.2317  0.0016  0.0004  0.0035  0.5359  0.4035  0.6060   \n",
       "\n",
       "   01-Q-z  ...  59-Q-x  59-Q-y  59-Q-z  59-A-x  59-A-y  59-A-z  59-W-x  \\\n",
       "0 -0.4274  ...     0.0     0.0     0.0     0.0     0.0     0.0     0.0   \n",
       "1 -0.4274  ...     0.0     0.0     0.0     0.0     0.0     0.0     0.0   \n",
       "2 -0.4275  ...     0.0     0.0     0.0     0.0     0.0     0.0     0.0   \n",
       "3 -0.4276  ...     0.0     0.0     0.0     0.0     0.0     0.0     0.0   \n",
       "4 -0.4276  ...     0.0     0.0     0.0     0.0     0.0     0.0     0.0   \n",
       "\n",
       "   59-W-y  59-W-z  Unnamed: 946  \n",
       "0     0.0     0.0           NaN  \n",
       "1     0.0     0.0           NaN  \n",
       "2     0.0     0.0           NaN  \n",
       "3     0.0     0.0           NaN  \n",
       "4     0.0     0.0           NaN  \n",
       "\n",
       "[5 rows x 947 columns]"
      ]
     },
     "execution_count": 22,
     "metadata": {},
     "output_type": "execute_result"
    }
   ],
   "source": [
    "thisdata = pd.read_csv(calc_path + file,header=2,sep='\\t')\n",
    "thisdata.head()"
   ]
  },
  {
   "cell_type": "code",
   "execution_count": 23,
   "metadata": {},
   "outputs": [
    {
     "data": {
      "text/plain": [
       "(37232, 947)"
      ]
     },
     "execution_count": 23,
     "metadata": {},
     "output_type": "execute_result"
    }
   ],
   "source": [
    "thisdata.shape"
   ]
  },
  {
   "cell_type": "code",
   "execution_count": null,
   "metadata": {},
   "outputs": [],
   "source": []
  }
 ],
 "metadata": {
  "kernelspec": {
   "display_name": "Python 3",
   "language": "python",
   "name": "python3"
  },
  "language_info": {
   "codemirror_mode": {
    "name": "ipython",
    "version": 3
   },
   "file_extension": ".py",
   "mimetype": "text/x-python",
   "name": "python",
   "nbconvert_exporter": "python",
   "pygments_lexer": "ipython3",
   "version": "3.6.7"
  }
 },
 "nbformat": 4,
 "nbformat_minor": 2
}
