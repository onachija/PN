{
 "cells": [
  {
   "cell_type": "code",
   "execution_count": 1,
   "metadata": {},
   "outputs": [],
   "source": [
    "import matplotlib.pyplot as plt\n",
    "import numpy as np\n",
    "import pandas as pd\n",
    "import os\n",
    "import seaborn as sns"
   ]
  },
  {
   "cell_type": "code",
   "execution_count": 2,
   "metadata": {},
   "outputs": [
    {
     "data": {
      "text/html": [
       "<div>\n",
       "<style scoped>\n",
       "    .dataframe tbody tr th:only-of-type {\n",
       "        vertical-align: middle;\n",
       "    }\n",
       "\n",
       "    .dataframe tbody tr th {\n",
       "        vertical-align: top;\n",
       "    }\n",
       "\n",
       "    .dataframe thead th {\n",
       "        text-align: right;\n",
       "    }\n",
       "</style>\n",
       "<table border=\"1\" class=\"dataframe\">\n",
       "  <thead>\n",
       "    <tr style=\"text-align: right;\">\n",
       "      <th></th>\n",
       "      <th>File</th>\n",
       "      <th>IndexStart</th>\n",
       "      <th>IndexEnd</th>\n",
       "      <th>StepsL</th>\n",
       "      <th>StepsR</th>\n",
       "      <th>Ts</th>\n",
       "      <th>SegLen</th>\n",
       "      <th>TimeLen</th>\n",
       "      <th>StepFreqL</th>\n",
       "      <th>StepFreqR</th>\n",
       "      <th>...</th>\n",
       "      <th>EnergyBand_3_15_54</th>\n",
       "      <th>EnergyBand_15_29_54</th>\n",
       "      <th>EnergyBand_3_15_55</th>\n",
       "      <th>EnergyBand_15_29_55</th>\n",
       "      <th>EnergyBand_3_15_56</th>\n",
       "      <th>EnergyBand_15_29_56</th>\n",
       "      <th>EnergyBand_3_15_57</th>\n",
       "      <th>EnergyBand_15_29_57</th>\n",
       "      <th>EnergyBand_3_15_58</th>\n",
       "      <th>EnergyBand_15_29_58</th>\n",
       "    </tr>\n",
       "  </thead>\n",
       "  <tbody>\n",
       "    <tr>\n",
       "      <th>0</th>\n",
       "      <td>N-01-1-Char00part2seg-9_sub_0.csv</td>\n",
       "      <td>58127.0</td>\n",
       "      <td>59961.0</td>\n",
       "      <td>12.0</td>\n",
       "      <td>13.0</td>\n",
       "      <td>0.008</td>\n",
       "      <td>1835.0</td>\n",
       "      <td>14.680</td>\n",
       "      <td>0.817439</td>\n",
       "      <td>0.885559</td>\n",
       "      <td>...</td>\n",
       "      <td>NaN</td>\n",
       "      <td>NaN</td>\n",
       "      <td>0.375840</td>\n",
       "      <td>0.068284</td>\n",
       "      <td>NaN</td>\n",
       "      <td>NaN</td>\n",
       "      <td>NaN</td>\n",
       "      <td>NaN</td>\n",
       "      <td>NaN</td>\n",
       "      <td>NaN</td>\n",
       "    </tr>\n",
       "    <tr>\n",
       "      <th>1</th>\n",
       "      <td>A-615829-Char00part1seg-4_sub_1.csv</td>\n",
       "      <td>37215.0</td>\n",
       "      <td>37836.0</td>\n",
       "      <td>3.0</td>\n",
       "      <td>2.0</td>\n",
       "      <td>0.008</td>\n",
       "      <td>622.0</td>\n",
       "      <td>4.976</td>\n",
       "      <td>0.602894</td>\n",
       "      <td>0.401929</td>\n",
       "      <td>...</td>\n",
       "      <td>NaN</td>\n",
       "      <td>NaN</td>\n",
       "      <td>0.419328</td>\n",
       "      <td>0.077711</td>\n",
       "      <td>NaN</td>\n",
       "      <td>NaN</td>\n",
       "      <td>NaN</td>\n",
       "      <td>NaN</td>\n",
       "      <td>NaN</td>\n",
       "      <td>NaN</td>\n",
       "    </tr>\n",
       "    <tr>\n",
       "      <th>2</th>\n",
       "      <td>N-25031996-Char00part3seg-2_sub_0.csv</td>\n",
       "      <td>24585.0</td>\n",
       "      <td>26738.0</td>\n",
       "      <td>14.0</td>\n",
       "      <td>14.0</td>\n",
       "      <td>0.008</td>\n",
       "      <td>2154.0</td>\n",
       "      <td>17.232</td>\n",
       "      <td>0.812442</td>\n",
       "      <td>0.812442</td>\n",
       "      <td>...</td>\n",
       "      <td>NaN</td>\n",
       "      <td>NaN</td>\n",
       "      <td>0.419684</td>\n",
       "      <td>0.087584</td>\n",
       "      <td>NaN</td>\n",
       "      <td>NaN</td>\n",
       "      <td>NaN</td>\n",
       "      <td>NaN</td>\n",
       "      <td>NaN</td>\n",
       "      <td>NaN</td>\n",
       "    </tr>\n",
       "    <tr>\n",
       "      <th>3</th>\n",
       "      <td>A-766012-Char00part1seg-1_sub_5.csv</td>\n",
       "      <td>5114.0</td>\n",
       "      <td>6533.0</td>\n",
       "      <td>11.0</td>\n",
       "      <td>10.0</td>\n",
       "      <td>0.017</td>\n",
       "      <td>1420.0</td>\n",
       "      <td>24.140</td>\n",
       "      <td>0.455675</td>\n",
       "      <td>0.414250</td>\n",
       "      <td>...</td>\n",
       "      <td>0.379196</td>\n",
       "      <td>0.206181</td>\n",
       "      <td>0.432784</td>\n",
       "      <td>0.161571</td>\n",
       "      <td>0.429657</td>\n",
       "      <td>0.193923</td>\n",
       "      <td>0.429657</td>\n",
       "      <td>0.193923</td>\n",
       "      <td>0.429657</td>\n",
       "      <td>0.193923</td>\n",
       "    </tr>\n",
       "    <tr>\n",
       "      <th>4</th>\n",
       "      <td>N-740516-Char00part3seg-0_sub_0.csv</td>\n",
       "      <td>7316.0</td>\n",
       "      <td>8149.0</td>\n",
       "      <td>13.0</td>\n",
       "      <td>12.0</td>\n",
       "      <td>0.017</td>\n",
       "      <td>834.0</td>\n",
       "      <td>14.178</td>\n",
       "      <td>0.916914</td>\n",
       "      <td>0.846382</td>\n",
       "      <td>...</td>\n",
       "      <td>0.422536</td>\n",
       "      <td>0.116652</td>\n",
       "      <td>0.389778</td>\n",
       "      <td>0.103454</td>\n",
       "      <td>0.440059</td>\n",
       "      <td>0.094613</td>\n",
       "      <td>0.440059</td>\n",
       "      <td>0.094613</td>\n",
       "      <td>0.440059</td>\n",
       "      <td>0.094613</td>\n",
       "    </tr>\n",
       "  </tbody>\n",
       "</table>\n",
       "<p>5 rows × 144 columns</p>\n",
       "</div>"
      ],
      "text/plain": [
       "                                    File  IndexStart  IndexEnd  StepsL  \\\n",
       "0      N-01-1-Char00part2seg-9_sub_0.csv     58127.0   59961.0    12.0   \n",
       "1    A-615829-Char00part1seg-4_sub_1.csv     37215.0   37836.0     3.0   \n",
       "2  N-25031996-Char00part3seg-2_sub_0.csv     24585.0   26738.0    14.0   \n",
       "3    A-766012-Char00part1seg-1_sub_5.csv      5114.0    6533.0    11.0   \n",
       "4    N-740516-Char00part3seg-0_sub_0.csv      7316.0    8149.0    13.0   \n",
       "\n",
       "   StepsR     Ts  SegLen  TimeLen  StepFreqL  StepFreqR  ...  \\\n",
       "0    13.0  0.008  1835.0   14.680   0.817439   0.885559  ...   \n",
       "1     2.0  0.008   622.0    4.976   0.602894   0.401929  ...   \n",
       "2    14.0  0.008  2154.0   17.232   0.812442   0.812442  ...   \n",
       "3    10.0  0.017  1420.0   24.140   0.455675   0.414250  ...   \n",
       "4    12.0  0.017   834.0   14.178   0.916914   0.846382  ...   \n",
       "\n",
       "   EnergyBand_3_15_54  EnergyBand_15_29_54  EnergyBand_3_15_55  \\\n",
       "0                 NaN                  NaN            0.375840   \n",
       "1                 NaN                  NaN            0.419328   \n",
       "2                 NaN                  NaN            0.419684   \n",
       "3            0.379196             0.206181            0.432784   \n",
       "4            0.422536             0.116652            0.389778   \n",
       "\n",
       "   EnergyBand_15_29_55 EnergyBand_3_15_56  EnergyBand_15_29_56  \\\n",
       "0             0.068284                NaN                  NaN   \n",
       "1             0.077711                NaN                  NaN   \n",
       "2             0.087584                NaN                  NaN   \n",
       "3             0.161571           0.429657             0.193923   \n",
       "4             0.103454           0.440059             0.094613   \n",
       "\n",
       "   EnergyBand_3_15_57  EnergyBand_15_29_57  EnergyBand_3_15_58  \\\n",
       "0                 NaN                  NaN                 NaN   \n",
       "1                 NaN                  NaN                 NaN   \n",
       "2                 NaN                  NaN                 NaN   \n",
       "3            0.429657             0.193923            0.429657   \n",
       "4            0.440059             0.094613            0.440059   \n",
       "\n",
       "   EnergyBand_15_29_58  \n",
       "0                  NaN  \n",
       "1                  NaN  \n",
       "2                  NaN  \n",
       "3             0.193923  \n",
       "4             0.094613  \n",
       "\n",
       "[5 rows x 144 columns]"
      ]
     },
     "execution_count": 2,
     "metadata": {},
     "output_type": "execute_result"
    }
   ],
   "source": [
    "A = pd.read_csv('../data/FEATURES.csv')\n",
    "A.head()"
   ]
  },
  {
   "cell_type": "code",
   "execution_count": 3,
   "metadata": {},
   "outputs": [
    {
     "data": {
      "text/plain": [
       "N    212\n",
       "A     99\n",
       "Name: Type, dtype: int64"
      ]
     },
     "execution_count": 3,
     "metadata": {},
     "output_type": "execute_result"
    }
   ],
   "source": [
    "A.Type.value_counts()"
   ]
  },
  {
   "cell_type": "markdown",
   "metadata": {},
   "source": [
    "### Prepare matrix X with numbers and vector y of types"
   ]
  },
  {
   "cell_type": "code",
   "execution_count": 4,
   "metadata": {},
   "outputs": [],
   "source": [
    "X = A.copy()\n",
    "y = np.array(X.Type=='A').astype(int)\n",
    "X.drop(columns={'Subject','Type','IndexStart','IndexEnd','Ts','SegLen','TimeLen','MaxDir','MinDir','MeanDir','StdDir','StepsL','StepsR'},inplace=True)\n",
    "X.dropna(axis=1,inplace=True)\n",
    "X.set_index('File',inplace=True)"
   ]
  },
  {
   "cell_type": "code",
   "execution_count": 5,
   "metadata": {},
   "outputs": [
    {
     "data": {
      "text/html": [
       "<div>\n",
       "<style scoped>\n",
       "    .dataframe tbody tr th:only-of-type {\n",
       "        vertical-align: middle;\n",
       "    }\n",
       "\n",
       "    .dataframe tbody tr th {\n",
       "        vertical-align: top;\n",
       "    }\n",
       "\n",
       "    .dataframe thead th {\n",
       "        text-align: right;\n",
       "    }\n",
       "</style>\n",
       "<table border=\"1\" class=\"dataframe\">\n",
       "  <thead>\n",
       "    <tr style=\"text-align: right;\">\n",
       "      <th></th>\n",
       "      <th>StepFreqL</th>\n",
       "      <th>StepFreqR</th>\n",
       "      <th>EnergyBand_3_15_0</th>\n",
       "      <th>EnergyBand_15_29_0</th>\n",
       "      <th>EnergyBand_3_15_1</th>\n",
       "      <th>EnergyBand_15_29_1</th>\n",
       "      <th>EnergyBand_3_15_2</th>\n",
       "      <th>EnergyBand_15_29_2</th>\n",
       "      <th>EnergyBand_3_15_3</th>\n",
       "      <th>EnergyBand_15_29_3</th>\n",
       "      <th>...</th>\n",
       "      <th>EnergyBand_3_15_21</th>\n",
       "      <th>EnergyBand_15_29_21</th>\n",
       "      <th>EnergyBand_3_15_24</th>\n",
       "      <th>EnergyBand_15_29_24</th>\n",
       "      <th>EnergyBand_3_15_28</th>\n",
       "      <th>EnergyBand_15_29_28</th>\n",
       "      <th>EnergyBand_3_15_32</th>\n",
       "      <th>EnergyBand_15_29_32</th>\n",
       "      <th>EnergyBand_3_15_36</th>\n",
       "      <th>EnergyBand_15_29_36</th>\n",
       "    </tr>\n",
       "    <tr>\n",
       "      <th>File</th>\n",
       "      <th></th>\n",
       "      <th></th>\n",
       "      <th></th>\n",
       "      <th></th>\n",
       "      <th></th>\n",
       "      <th></th>\n",
       "      <th></th>\n",
       "      <th></th>\n",
       "      <th></th>\n",
       "      <th></th>\n",
       "      <th></th>\n",
       "      <th></th>\n",
       "      <th></th>\n",
       "      <th></th>\n",
       "      <th></th>\n",
       "      <th></th>\n",
       "      <th></th>\n",
       "      <th></th>\n",
       "      <th></th>\n",
       "      <th></th>\n",
       "      <th></th>\n",
       "    </tr>\n",
       "  </thead>\n",
       "  <tbody>\n",
       "    <tr>\n",
       "      <th>N-01-1-Char00part2seg-9_sub_0.csv</th>\n",
       "      <td>0.817439</td>\n",
       "      <td>0.885559</td>\n",
       "      <td>0.355221</td>\n",
       "      <td>0.189428</td>\n",
       "      <td>0.385146</td>\n",
       "      <td>0.245590</td>\n",
       "      <td>0.409115</td>\n",
       "      <td>0.240203</td>\n",
       "      <td>0.350486</td>\n",
       "      <td>0.180774</td>\n",
       "      <td>...</td>\n",
       "      <td>0.380382</td>\n",
       "      <td>0.079673</td>\n",
       "      <td>0.380382</td>\n",
       "      <td>0.079673</td>\n",
       "      <td>0.380382</td>\n",
       "      <td>0.079673</td>\n",
       "      <td>0.380382</td>\n",
       "      <td>0.079673</td>\n",
       "      <td>0.380382</td>\n",
       "      <td>0.079673</td>\n",
       "    </tr>\n",
       "    <tr>\n",
       "      <th>A-615829-Char00part1seg-4_sub_1.csv</th>\n",
       "      <td>0.602894</td>\n",
       "      <td>0.401929</td>\n",
       "      <td>0.506192</td>\n",
       "      <td>0.085132</td>\n",
       "      <td>0.442695</td>\n",
       "      <td>0.127328</td>\n",
       "      <td>0.564822</td>\n",
       "      <td>0.144963</td>\n",
       "      <td>0.298850</td>\n",
       "      <td>0.230750</td>\n",
       "      <td>...</td>\n",
       "      <td>0.337415</td>\n",
       "      <td>0.299516</td>\n",
       "      <td>0.337415</td>\n",
       "      <td>0.299516</td>\n",
       "      <td>0.337415</td>\n",
       "      <td>0.299516</td>\n",
       "      <td>0.337415</td>\n",
       "      <td>0.299516</td>\n",
       "      <td>0.337415</td>\n",
       "      <td>0.299516</td>\n",
       "    </tr>\n",
       "    <tr>\n",
       "      <th>N-25031996-Char00part3seg-2_sub_0.csv</th>\n",
       "      <td>0.812442</td>\n",
       "      <td>0.812442</td>\n",
       "      <td>0.533281</td>\n",
       "      <td>0.165664</td>\n",
       "      <td>0.504082</td>\n",
       "      <td>0.154384</td>\n",
       "      <td>0.464476</td>\n",
       "      <td>0.206254</td>\n",
       "      <td>0.311460</td>\n",
       "      <td>0.237982</td>\n",
       "      <td>...</td>\n",
       "      <td>0.441981</td>\n",
       "      <td>0.098974</td>\n",
       "      <td>0.441981</td>\n",
       "      <td>0.098974</td>\n",
       "      <td>0.441981</td>\n",
       "      <td>0.098974</td>\n",
       "      <td>0.441981</td>\n",
       "      <td>0.098974</td>\n",
       "      <td>0.441981</td>\n",
       "      <td>0.098974</td>\n",
       "    </tr>\n",
       "    <tr>\n",
       "      <th>A-766012-Char00part1seg-1_sub_5.csv</th>\n",
       "      <td>0.455675</td>\n",
       "      <td>0.414250</td>\n",
       "      <td>0.592277</td>\n",
       "      <td>0.173642</td>\n",
       "      <td>0.538505</td>\n",
       "      <td>0.217750</td>\n",
       "      <td>0.524634</td>\n",
       "      <td>0.210781</td>\n",
       "      <td>0.439928</td>\n",
       "      <td>0.268985</td>\n",
       "      <td>...</td>\n",
       "      <td>0.466998</td>\n",
       "      <td>0.159625</td>\n",
       "      <td>0.466998</td>\n",
       "      <td>0.159625</td>\n",
       "      <td>0.466998</td>\n",
       "      <td>0.159625</td>\n",
       "      <td>0.466998</td>\n",
       "      <td>0.159625</td>\n",
       "      <td>0.466998</td>\n",
       "      <td>0.159625</td>\n",
       "    </tr>\n",
       "    <tr>\n",
       "      <th>N-740516-Char00part3seg-0_sub_0.csv</th>\n",
       "      <td>0.916914</td>\n",
       "      <td>0.846382</td>\n",
       "      <td>0.480260</td>\n",
       "      <td>0.218803</td>\n",
       "      <td>0.499402</td>\n",
       "      <td>0.311756</td>\n",
       "      <td>0.452750</td>\n",
       "      <td>0.322480</td>\n",
       "      <td>0.380628</td>\n",
       "      <td>0.303668</td>\n",
       "      <td>...</td>\n",
       "      <td>0.374677</td>\n",
       "      <td>0.094806</td>\n",
       "      <td>0.374677</td>\n",
       "      <td>0.094806</td>\n",
       "      <td>0.374677</td>\n",
       "      <td>0.094806</td>\n",
       "      <td>0.374677</td>\n",
       "      <td>0.094806</td>\n",
       "      <td>0.374677</td>\n",
       "      <td>0.094806</td>\n",
       "    </tr>\n",
       "  </tbody>\n",
       "</table>\n",
       "<p>5 rows × 52 columns</p>\n",
       "</div>"
      ],
      "text/plain": [
       "                                       StepFreqL  StepFreqR  \\\n",
       "File                                                          \n",
       "N-01-1-Char00part2seg-9_sub_0.csv       0.817439   0.885559   \n",
       "A-615829-Char00part1seg-4_sub_1.csv     0.602894   0.401929   \n",
       "N-25031996-Char00part3seg-2_sub_0.csv   0.812442   0.812442   \n",
       "A-766012-Char00part1seg-1_sub_5.csv     0.455675   0.414250   \n",
       "N-740516-Char00part3seg-0_sub_0.csv     0.916914   0.846382   \n",
       "\n",
       "                                       EnergyBand_3_15_0  EnergyBand_15_29_0  \\\n",
       "File                                                                           \n",
       "N-01-1-Char00part2seg-9_sub_0.csv               0.355221            0.189428   \n",
       "A-615829-Char00part1seg-4_sub_1.csv             0.506192            0.085132   \n",
       "N-25031996-Char00part3seg-2_sub_0.csv           0.533281            0.165664   \n",
       "A-766012-Char00part1seg-1_sub_5.csv             0.592277            0.173642   \n",
       "N-740516-Char00part3seg-0_sub_0.csv             0.480260            0.218803   \n",
       "\n",
       "                                       EnergyBand_3_15_1  EnergyBand_15_29_1  \\\n",
       "File                                                                           \n",
       "N-01-1-Char00part2seg-9_sub_0.csv               0.385146            0.245590   \n",
       "A-615829-Char00part1seg-4_sub_1.csv             0.442695            0.127328   \n",
       "N-25031996-Char00part3seg-2_sub_0.csv           0.504082            0.154384   \n",
       "A-766012-Char00part1seg-1_sub_5.csv             0.538505            0.217750   \n",
       "N-740516-Char00part3seg-0_sub_0.csv             0.499402            0.311756   \n",
       "\n",
       "                                       EnergyBand_3_15_2  EnergyBand_15_29_2  \\\n",
       "File                                                                           \n",
       "N-01-1-Char00part2seg-9_sub_0.csv               0.409115            0.240203   \n",
       "A-615829-Char00part1seg-4_sub_1.csv             0.564822            0.144963   \n",
       "N-25031996-Char00part3seg-2_sub_0.csv           0.464476            0.206254   \n",
       "A-766012-Char00part1seg-1_sub_5.csv             0.524634            0.210781   \n",
       "N-740516-Char00part3seg-0_sub_0.csv             0.452750            0.322480   \n",
       "\n",
       "                                       EnergyBand_3_15_3  EnergyBand_15_29_3  \\\n",
       "File                                                                           \n",
       "N-01-1-Char00part2seg-9_sub_0.csv               0.350486            0.180774   \n",
       "A-615829-Char00part1seg-4_sub_1.csv             0.298850            0.230750   \n",
       "N-25031996-Char00part3seg-2_sub_0.csv           0.311460            0.237982   \n",
       "A-766012-Char00part1seg-1_sub_5.csv             0.439928            0.268985   \n",
       "N-740516-Char00part3seg-0_sub_0.csv             0.380628            0.303668   \n",
       "\n",
       "                                       ...  EnergyBand_3_15_21  \\\n",
       "File                                   ...                       \n",
       "N-01-1-Char00part2seg-9_sub_0.csv      ...            0.380382   \n",
       "A-615829-Char00part1seg-4_sub_1.csv    ...            0.337415   \n",
       "N-25031996-Char00part3seg-2_sub_0.csv  ...            0.441981   \n",
       "A-766012-Char00part1seg-1_sub_5.csv    ...            0.466998   \n",
       "N-740516-Char00part3seg-0_sub_0.csv    ...            0.374677   \n",
       "\n",
       "                                       EnergyBand_15_29_21  \\\n",
       "File                                                         \n",
       "N-01-1-Char00part2seg-9_sub_0.csv                 0.079673   \n",
       "A-615829-Char00part1seg-4_sub_1.csv               0.299516   \n",
       "N-25031996-Char00part3seg-2_sub_0.csv             0.098974   \n",
       "A-766012-Char00part1seg-1_sub_5.csv               0.159625   \n",
       "N-740516-Char00part3seg-0_sub_0.csv               0.094806   \n",
       "\n",
       "                                       EnergyBand_3_15_24  \\\n",
       "File                                                        \n",
       "N-01-1-Char00part2seg-9_sub_0.csv                0.380382   \n",
       "A-615829-Char00part1seg-4_sub_1.csv              0.337415   \n",
       "N-25031996-Char00part3seg-2_sub_0.csv            0.441981   \n",
       "A-766012-Char00part1seg-1_sub_5.csv              0.466998   \n",
       "N-740516-Char00part3seg-0_sub_0.csv              0.374677   \n",
       "\n",
       "                                       EnergyBand_15_29_24  \\\n",
       "File                                                         \n",
       "N-01-1-Char00part2seg-9_sub_0.csv                 0.079673   \n",
       "A-615829-Char00part1seg-4_sub_1.csv               0.299516   \n",
       "N-25031996-Char00part3seg-2_sub_0.csv             0.098974   \n",
       "A-766012-Char00part1seg-1_sub_5.csv               0.159625   \n",
       "N-740516-Char00part3seg-0_sub_0.csv               0.094806   \n",
       "\n",
       "                                       EnergyBand_3_15_28  \\\n",
       "File                                                        \n",
       "N-01-1-Char00part2seg-9_sub_0.csv                0.380382   \n",
       "A-615829-Char00part1seg-4_sub_1.csv              0.337415   \n",
       "N-25031996-Char00part3seg-2_sub_0.csv            0.441981   \n",
       "A-766012-Char00part1seg-1_sub_5.csv              0.466998   \n",
       "N-740516-Char00part3seg-0_sub_0.csv              0.374677   \n",
       "\n",
       "                                       EnergyBand_15_29_28  \\\n",
       "File                                                         \n",
       "N-01-1-Char00part2seg-9_sub_0.csv                 0.079673   \n",
       "A-615829-Char00part1seg-4_sub_1.csv               0.299516   \n",
       "N-25031996-Char00part3seg-2_sub_0.csv             0.098974   \n",
       "A-766012-Char00part1seg-1_sub_5.csv               0.159625   \n",
       "N-740516-Char00part3seg-0_sub_0.csv               0.094806   \n",
       "\n",
       "                                       EnergyBand_3_15_32  \\\n",
       "File                                                        \n",
       "N-01-1-Char00part2seg-9_sub_0.csv                0.380382   \n",
       "A-615829-Char00part1seg-4_sub_1.csv              0.337415   \n",
       "N-25031996-Char00part3seg-2_sub_0.csv            0.441981   \n",
       "A-766012-Char00part1seg-1_sub_5.csv              0.466998   \n",
       "N-740516-Char00part3seg-0_sub_0.csv              0.374677   \n",
       "\n",
       "                                       EnergyBand_15_29_32  \\\n",
       "File                                                         \n",
       "N-01-1-Char00part2seg-9_sub_0.csv                 0.079673   \n",
       "A-615829-Char00part1seg-4_sub_1.csv               0.299516   \n",
       "N-25031996-Char00part3seg-2_sub_0.csv             0.098974   \n",
       "A-766012-Char00part1seg-1_sub_5.csv               0.159625   \n",
       "N-740516-Char00part3seg-0_sub_0.csv               0.094806   \n",
       "\n",
       "                                       EnergyBand_3_15_36  EnergyBand_15_29_36  \n",
       "File                                                                            \n",
       "N-01-1-Char00part2seg-9_sub_0.csv                0.380382             0.079673  \n",
       "A-615829-Char00part1seg-4_sub_1.csv              0.337415             0.299516  \n",
       "N-25031996-Char00part3seg-2_sub_0.csv            0.441981             0.098974  \n",
       "A-766012-Char00part1seg-1_sub_5.csv              0.466998             0.159625  \n",
       "N-740516-Char00part3seg-0_sub_0.csv              0.374677             0.094806  \n",
       "\n",
       "[5 rows x 52 columns]"
      ]
     },
     "execution_count": 5,
     "metadata": {},
     "output_type": "execute_result"
    }
   ],
   "source": [
    "X.head()"
   ]
  },
  {
   "cell_type": "markdown",
   "metadata": {},
   "source": [
    "# ----------------------------  CLASSIFICATION  ----------------------------\n",
    "### supervised learning"
   ]
  },
  {
   "cell_type": "markdown",
   "metadata": {},
   "source": [
    "## [A] DATA SPLIT TO TRAIN AND TEST SET"
   ]
  },
  {
   "cell_type": "markdown",
   "metadata": {},
   "source": [
    "#### BALANCING THE DATASET TO SAME AMOUNT OF SAMPLES\n",
    "see this for documentation of SMOTE over-sampling:\n",
    "https://imbalanced-learn.readthedocs.io/en/stable/over_sampling.html"
   ]
  },
  {
   "cell_type": "code",
   "execution_count": 6,
   "metadata": {},
   "outputs": [
    {
     "name": "stderr",
     "output_type": "stream",
     "text": [
      "Using TensorFlow backend.\n"
     ]
    }
   ],
   "source": [
    "from imblearn.over_sampling import SMOTE\n",
    "X_resampled, y_resampled = SMOTE().fit_resample(X, y)"
   ]
  },
  {
   "cell_type": "code",
   "execution_count": 7,
   "metadata": {},
   "outputs": [
    {
     "data": {
      "text/plain": [
       "(311, 52)"
      ]
     },
     "execution_count": 7,
     "metadata": {},
     "output_type": "execute_result"
    }
   ],
   "source": [
    "X.shape"
   ]
  },
  {
   "cell_type": "code",
   "execution_count": 8,
   "metadata": {},
   "outputs": [
    {
     "data": {
      "text/plain": [
       "99"
      ]
     },
     "execution_count": 8,
     "metadata": {},
     "output_type": "execute_result"
    }
   ],
   "source": [
    "sum(y==1)"
   ]
  },
  {
   "cell_type": "code",
   "execution_count": 9,
   "metadata": {},
   "outputs": [
    {
     "data": {
      "text/plain": [
       "(424, 52)"
      ]
     },
     "execution_count": 9,
     "metadata": {},
     "output_type": "execute_result"
    }
   ],
   "source": [
    "X_resampled.shape"
   ]
  },
  {
   "cell_type": "code",
   "execution_count": 10,
   "metadata": {},
   "outputs": [
    {
     "data": {
      "text/plain": [
       "212"
      ]
     },
     "execution_count": 10,
     "metadata": {},
     "output_type": "execute_result"
    }
   ],
   "source": [
    "sum(y_resampled==1)"
   ]
  },
  {
   "cell_type": "code",
   "execution_count": 11,
   "metadata": {},
   "outputs": [],
   "source": [
    "from sklearn.model_selection import train_test_split\n",
    "X_train, X_test, y_train, y_test = train_test_split(X_resampled, y_resampled, test_size = 0.2, random_state = 0)"
   ]
  },
  {
   "cell_type": "markdown",
   "metadata": {},
   "source": [
    "## [B] DATA PREPROCESSING: FEATURE SCALING"
   ]
  },
  {
   "cell_type": "code",
   "execution_count": 12,
   "metadata": {},
   "outputs": [],
   "source": [
    "# Feature Scaling\n",
    "from sklearn.preprocessing import StandardScaler\n",
    "sc = StandardScaler()\n",
    "X_train = sc.fit_transform(X_train)\n",
    "X_test = sc.transform(X_test)"
   ]
  },
  {
   "cell_type": "markdown",
   "metadata": {},
   "source": [
    "## [C] CLASSIFICATION"
   ]
  },
  {
   "cell_type": "markdown",
   "metadata": {},
   "source": [
    "# COMPARISON OF CLASSIFIERS"
   ]
  },
  {
   "cell_type": "code",
   "execution_count": 13,
   "metadata": {},
   "outputs": [],
   "source": [
    "from sklearn.metrics import classification_report\n",
    "from sklearn.metrics import confusion_matrix\n",
    "from sklearn.model_selection import GridSearchCV\n",
    "from sklearn.linear_model import LogisticRegression\n",
    "from sklearn.neighbors import KNeighborsClassifier\n",
    "from sklearn.svm import SVC\n",
    "from sklearn.naive_bayes import GaussianNB\n",
    "from sklearn.tree import DecisionTreeClassifier\n",
    "from sklearn.ensemble import RandomForestClassifier\n",
    "import keras\n",
    "from keras.models import Sequential\n",
    "from keras.layers import Dense\n",
    "\n",
    "from sklearn.neural_network import MLPClassifier\n",
    "from sklearn.ensemble import AdaBoostClassifier\n",
    "from sklearn.discriminant_analysis import QuadraticDiscriminantAnalysis\n",
    "\n",
    "from sklearn.model_selection import cross_val_score\n",
    "\n",
    "from confusion_matrix_pretty_print import *\n",
    "\n",
    "import sys\n",
    "import warnings\n",
    "\n",
    "if not sys.warnoptions:\n",
    "    warnings.simplefilter(\"ignore\")\n",
    "\n",
    "names = [\"LogisticRegression\",\"Nearest Neighbors\",\"Linear SVM\",\n",
    "         \"Poly SVM\",\"RBF SVM\",\"Naive Bayes\", \"Decision Tree\",\n",
    "         \"Random Forest\",\"Neural Net\", \"AdaBoost\",\"QDA\"]\n",
    "\n",
    "classifiers = [\n",
    "    LogisticRegression(),\n",
    "    KNeighborsClassifier(),\n",
    "    SVC(),\n",
    "    SVC(),\n",
    "    SVC(),\n",
    "    GaussianNB(),\n",
    "    DecisionTreeClassifier(),\n",
    "    RandomForestClassifier(),\n",
    "    MLPClassifier(),\n",
    "    AdaBoostClassifier(),\n",
    "    QuadraticDiscriminantAnalysis()]\n",
    "\n",
    "params = [{ 'penalty' : ['l1', 'l2'],         # LogReg\n",
    "           'C' : np.logspace(-4, 4, 20),\n",
    "           'solver' : ['liblinear']},\n",
    "          {'n_neighbors' : np.arange(5,15,2), # k-NN\n",
    "           'metric' : ['minkowski'],\n",
    "           'p' : [2],\n",
    "           'n_jobs': [-1]},\n",
    "          {'C' : np.logspace(-4, 4, 20),      # Linear SVM\n",
    "          'kernel' : ['linear'],\n",
    "           'gamma' : ['scale'],\n",
    "           'random_state' : [0]},\n",
    "          {'C' : np.logspace(-4, 4, 20),      # Poly SVM\n",
    "          'kernel' : ['poly'],\n",
    "           'degree' : np.arange(1,5),\n",
    "           'gamma' : ['scale'],\n",
    "           'random_state' : [0]},\n",
    "          {'C' : np.logspace(-4, 4, 20),      # RBF SVM\n",
    "           'kernel' : ['rbf'],\n",
    "           'gamma' : np.logspace(-4, 4, 20),\n",
    "           'random_state' : [0]},\n",
    "          {},                                 # Naive Bayes\n",
    "          {'criterion' : ['gini', 'entropy'], # Decision tree\n",
    "           'max_depth' : np.arange(1,20),\n",
    "           'random_state' : [0]},   \n",
    "          {'n_estimators' : list(range(1,21,10)),  # Random Forrest\n",
    "           'max_features' : list(range(1,np.size(X,axis=1),5))},\n",
    "          {'solver' : ['lbfgs', 'sgd', 'adam'],    # Neural net\n",
    "           'max_iter' : [1000]},\n",
    "          {'n_estimators' : list(range(1,21,10)), # AdaBoost\n",
    "           'random_state' : [0]}, \n",
    "          {}] # QDA"
   ]
  },
  {
   "cell_type": "markdown",
   "metadata": {},
   "source": [
    "### GRID SEARCH FOR ALL CLASSIFIERS"
   ]
  },
  {
   "cell_type": "code",
   "execution_count": 14,
   "metadata": {},
   "outputs": [],
   "source": [
    "best_params = [None]*len(classifiers)\n",
    "for i,c in enumerate(classifiers):    \n",
    "    # Create grid search object\n",
    "\n",
    "    clf = GridSearchCV(c,param_grid = params[i],cv=5,iid=True)\n",
    "\n",
    "    # Fit on data\n",
    "\n",
    "    best_clf = clf.fit(X_train, y_train)\n",
    "    \n",
    "    best_params[i] = clf.best_params_\n",
    "    \n",
    "    "
   ]
  },
  {
   "cell_type": "code",
   "execution_count": 15,
   "metadata": {},
   "outputs": [
    {
     "data": {
      "text/plain": [
       "[{'C': 0.23357214690901212, 'penalty': 'l1', 'solver': 'liblinear'},\n",
       " {'metric': 'minkowski', 'n_jobs': -1, 'n_neighbors': 5, 'p': 2},\n",
       " {'C': 0.0006951927961775605,\n",
       "  'gamma': 'scale',\n",
       "  'kernel': 'linear',\n",
       "  'random_state': 0},\n",
       " {'C': 11.288378916846883,\n",
       "  'degree': 3,\n",
       "  'gamma': 'scale',\n",
       "  'kernel': 'poly',\n",
       "  'random_state': 0},\n",
       " {'C': 0.615848211066026,\n",
       "  'gamma': 0.03359818286283781,\n",
       "  'kernel': 'rbf',\n",
       "  'random_state': 0},\n",
       " {},\n",
       " {'criterion': 'entropy', 'max_depth': 6, 'random_state': 0},\n",
       " {'max_features': 16, 'n_estimators': 11},\n",
       " {'max_iter': 1000, 'solver': 'lbfgs'},\n",
       " {'n_estimators': 11, 'random_state': 0},\n",
       " {}]"
      ]
     },
     "execution_count": 15,
     "metadata": {},
     "output_type": "execute_result"
    }
   ],
   "source": [
    "best_params"
   ]
  },
  {
   "cell_type": "markdown",
   "metadata": {},
   "source": [
    "### REPEATED CROSS VALIDATION "
   ]
  },
  {
   "cell_type": "code",
   "execution_count": 16,
   "metadata": {},
   "outputs": [],
   "source": [
    "rep = 5\n",
    "score = np.empty(len(classifiers))\n",
    "scores = np.empty((len(classifiers),rep))\n",
    "i=0\n",
    "for name, clf, param in zip(names, classifiers, best_params):\n",
    "    clf.set_params(**param)\n",
    "    clf.fit(X_train, y_train)\n",
    "    score[i] = clf.score(X_test, y_test)\n",
    "    scores[i,:] = cross_val_score(clf, X_resampled, y_resampled, cv=rep)\n",
    "    i+=1"
   ]
  },
  {
   "cell_type": "code",
   "execution_count": 17,
   "metadata": {},
   "outputs": [
    {
     "data": {
      "text/plain": [
       "Text(0.5, 1.0, 'ACCURACY')"
      ]
     },
     "execution_count": 17,
     "metadata": {},
     "output_type": "execute_result"
    },
    {
     "data": {
      "text/plain": [
       "<Figure size 864x432 with 0 Axes>"
      ]
     },
     "metadata": {},
     "output_type": "display_data"
    },
    {
     "data": {
      "image/png": "[encoded data removed]",
      "text/plain": [
       "<Figure size 432x288 with 1 Axes>"
      ]
     },
     "metadata": {},
     "output_type": "display_data"
    }
   ],
   "source": [
    "df = pd.DataFrame({'classifier':names, 'accuracy':score})\n",
    "plt.figure(figsize=(12,6))\n",
    "ax = df.plot.barh(x='classifier', y='accuracy', rot=0)\n",
    "ax.legend([])\n",
    "ax.grid()\n",
    "ax.set_title('ACCURACY')"
   ]
  },
  {
   "cell_type": "code",
   "execution_count": 18,
   "metadata": {},
   "outputs": [
    {
     "data": {
      "image/png": "[encoded data removed]",
      "text/plain": [
       "<Figure size 432x288 with 2 Axes>"
      ]
     },
     "metadata": {},
     "output_type": "display_data"
    }
   ],
   "source": [
    "sns.heatmap(scores,yticklabels=names,linewidths=0.5)\n",
    "plt.yticks(rotation=0) \n",
    "plt.title('ACCURACY - 5 times repeated with same params')\n",
    "plt.show()\n"
   ]
  },
  {
   "cell_type": "markdown",
   "metadata": {},
   "source": [
    "### STRATIFIED CROSS VALIDATION\n",
    "see visualization how stratified cross validation works over here:\n",
    "https://scikit-learn.org/stable/auto_examples/model_selection/plot_cv_indices.html#sphx-glr-auto-examples-model-selection-plot-cv-indices-py"
   ]
  },
  {
   "cell_type": "code",
   "execution_count": 19,
   "metadata": {},
   "outputs": [],
   "source": [
    "from sklearn.model_selection import StratifiedKFold\n",
    "\n",
    "splits=9\n",
    "score = np.empty((splits,len(classifiers)))\n",
    "\n",
    "\n",
    "skf = StratifiedKFold(n_splits=splits)\n",
    "\n",
    "split = 0\n",
    "for train, test in skf.split(X_resampled, y_resampled):\n",
    "    X_train, X_test = X_resampled[train], X_resampled[test]\n",
    "    y_train, y_test = y_resampled[train], y_resampled[test]\n",
    "    i=0\n",
    "    for name, clf, param in zip(names, classifiers, best_params):\n",
    "        clf.set_params(**param)\n",
    "        clf.fit(X_train, y_train)\n",
    "        score[split,i] = clf.score(X_test, y_test)\n",
    "        i+=1\n",
    "    split+=1"
   ]
  },
  {
   "cell_type": "code",
   "execution_count": 20,
   "metadata": {},
   "outputs": [
    {
     "data": {
      "text/plain": [
       "Text(0.5, 1, 'Accuracy')"
      ]
     },
     "execution_count": 20,
     "metadata": {},
     "output_type": "execute_result"
    },
    {
     "data": {
      "image/png": "[encoded data removed]",
      "text/plain": [
       "<Figure size 432x288 with 2 Axes>"
      ]
     },
     "metadata": {},
     "output_type": "display_data"
    }
   ],
   "source": [
    "sns.heatmap(score,xticklabels=names,linewidths=0.5)\n",
    "plt.title('Accuracy')"
   ]
  },
  {
   "cell_type": "markdown",
   "metadata": {},
   "source": [
    "### LEAVE-ONE-SUBJECT-OUT\n",
    "using LeaveOneGroupOut"
   ]
  },
  {
   "cell_type": "code",
   "execution_count": 21,
   "metadata": {},
   "outputs": [],
   "source": [
    "from sklearn import preprocessing\n",
    "le = preprocessing.LabelEncoder()\n",
    "\n",
    "subject = A.Subject.to_list()\n",
    "le.fit(subject)\n",
    "group = le.transform(subject)"
   ]
  },
  {
   "cell_type": "code",
   "execution_count": 22,
   "metadata": {},
   "outputs": [],
   "source": [
    "from sklearn.model_selection import LeaveOneGroupOut\n",
    "from operator import itemgetter\n",
    "\n",
    "score = np.empty((max(group)+1,len(classifiers)))\n",
    "ex_names=[]\n",
    "\n",
    "XX = X.values\n",
    "logo = LeaveOneGroupOut()\n",
    "logo.get_n_splits(groups=group)\n",
    "g=0\n",
    "for train, test in logo.split(X, y, groups=group):\n",
    "    X_train, X_test = XX[train], XX[test]\n",
    "    y_train, y_test = y[train], y[test]\n",
    "    ex_names.append(list(itemgetter(*test)(subject))[0])\n",
    "    i=0\n",
    "    for name, clf, param in zip(names, classifiers, best_params):\n",
    "        clf.set_params(**param)\n",
    "        clf.fit(X_train, y_train)\n",
    "        score[g,i] = clf.score(X_test, y_test)\n",
    "        i+=1\n",
    "    g+=1\n",
    "    "
   ]
  },
  {
   "cell_type": "code",
   "execution_count": 23,
   "metadata": {},
   "outputs": [
    {
     "data": {
      "text/plain": [
       "<matplotlib.axes._subplots.AxesSubplot at 0x14fcba668>"
      ]
     },
     "execution_count": 23,
     "metadata": {},
     "output_type": "execute_result"
    },
    {
     "data": {
      "image/png": "[encoded data removed]",
      "text/plain": [
       "<Figure size 432x288 with 2 Axes>"
      ]
     },
     "metadata": {},
     "output_type": "display_data"
    }
   ],
   "source": [
    "sns.heatmap(score,xticklabels=names,yticklabels=ex_names,linewidths=0.5)"
   ]
  },
  {
   "cell_type": "code",
   "execution_count": null,
   "metadata": {},
   "outputs": [],
   "source": [
    " "
   ]
  },
  {
   "cell_type": "code",
   "execution_count": null,
   "metadata": {},
   "outputs": [],
   "source": []
  }
 ],
 "metadata": {
  "kernelspec": {
   "display_name": "Python 3",
   "language": "python",
   "name": "python3"
  },
  "language_info": {
   "codemirror_mode": {
    "name": "ipython",
    "version": 3
   },
   "file_extension": ".py",
   "mimetype": "text/x-python",
   "name": "python",
   "nbconvert_exporter": "python",
   "pygments_lexer": "ipython3",
   "version": "3.6.7"
  }
 },
 "nbformat": 4,
 "nbformat_minor": 2
}
